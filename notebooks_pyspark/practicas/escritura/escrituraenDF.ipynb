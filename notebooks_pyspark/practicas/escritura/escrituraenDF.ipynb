{
 "cells": [
  {
   "cell_type": "code",
   "execution_count": 1,
   "id": "31891617",
   "metadata": {},
   "outputs": [],
   "source": [
    "import os\n",
    "import findspark\n",
    "\n",
    "# Activa Spark en tu entorno virtual\n",
    "findspark.init()\n",
    "\n",
    "# Inicia Spark\n",
    "from pyspark.sql import SparkSession\n",
    "\n",
    "spark = SparkSession.builder.appName(\"MiSparkApp\").master(\"local[*]\").getOrCreate()"
   ]
  },
  {
   "cell_type": "markdown",
   "id": "15b513d2",
   "metadata": {},
   "source": [
    "EL FORMATO POR DEFECTO ES PARQUET TANTO EN READER COMO WRITER"
   ]
  },
  {
   "cell_type": "code",
   "execution_count": 2,
   "id": "3bcf117a",
   "metadata": {},
   "outputs": [],
   "source": [
    "df = spark.read.parquet('../../data/datos.parquet')"
   ]
  },
  {
   "cell_type": "code",
   "execution_count": 3,
   "id": "f754f302",
   "metadata": {},
   "outputs": [],
   "source": [
    "df1 = df.repartition(2)"
   ]
  },
  {
   "cell_type": "code",
   "execution_count": 5,
   "id": "46d76da2",
   "metadata": {},
   "outputs": [],
   "source": [
    "df1.write.format('csv').option('sep', '|').save(\"../../output/csv\")\n"
   ]
  },
  {
   "cell_type": "code",
   "execution_count": null,
   "id": "9b99107f",
   "metadata": {},
   "outputs": [],
   "source": []
  }
 ],
 "metadata": {
  "kernelspec": {
   "display_name": "env310",
   "language": "python",
   "name": "python3"
  },
  "language_info": {
   "codemirror_mode": {
    "name": "ipython",
    "version": 3
   },
   "file_extension": ".py",
   "mimetype": "text/x-python",
   "name": "python",
   "nbconvert_exporter": "python",
   "pygments_lexer": "ipython3",
   "version": "3.10.9"
  }
 },
 "nbformat": 4,
 "nbformat_minor": 5
}
