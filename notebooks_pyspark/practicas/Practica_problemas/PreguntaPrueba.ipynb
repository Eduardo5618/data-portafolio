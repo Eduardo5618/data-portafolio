{
 "cells": [
  {
   "cell_type": "code",
   "execution_count": null,
   "id": "d2ee39eb",
   "metadata": {},
   "outputs": [],
   "source": [
    "import findspark\n",
    "findspark.init()\n",
    "\n",
    "from pyspark.sql import SparkSession\n",
    "\n",
    "spark = SparkSession.builder.getOrCreate()\n",
    "\n",
    "from pyspark.sql.functions import col,desc,to_date, coalesce,filter,count,avg"
   ]
  },
  {
   "cell_type": "code",
   "execution_count": null,
   "id": "d0b07742",
   "metadata": {},
   "outputs": [],
   "source": [
    "df = spark.read.option('header','true').csv('../../data/prueba')"
   ]
  },
  {
   "cell_type": "code",
   "execution_count": null,
   "id": "fd5de1da",
   "metadata": {},
   "outputs": [],
   "source": [
    "df = df.withColumn(\n",
    "    'fecha',\n",
    "    coalesce(\n",
    "        to_date(col(\"fecha\"), \"dd/MM/yyyy\"),\n",
    "        to_date(col(\"fecha\"), \"yyyy-MM-dd\")\n",
    "    )\n",
    ")"
   ]
  },
  {
   "cell_type": "code",
   "execution_count": null,
   "id": "134427a3",
   "metadata": {},
   "outputs": [],
   "source": [
    "df.show(10)\n",
    "df.printSchema()\n"
   ]
  },
  {
   "cell_type": "code",
   "execution_count": null,
   "id": "f509bd9a",
   "metadata": {},
   "outputs": [],
   "source": [
    "from pyspark.sql.types import StructType, StructField, IntegerType, StringType, DoubleType,DateType"
   ]
  },
  {
   "cell_type": "code",
   "execution_count": null,
   "id": "92ee285d",
   "metadata": {},
   "outputs": [],
   "source": [
    "df_transformado = df.selectExpr(\n",
    " 'cast(id_transaccion as String) as id_transaccion',\n",
    " 'cast(fecha as Date) as fecha',\n",
    " 'cast(id_cliente as string) as id_cliente',\n",
    " 'cast(id_producto as string) as id_producto',\n",
    " 'cast(categoria as string) as categoria',\n",
    " 'cast(subcategoria as string) as subcategoria',\n",
    " 'cast(precio as Double) as precio',\n",
    " 'cast(cantidad as Integer)as cantidad',\n",
    " 'cast(total as Double)as total',\n",
    " 'cast(ubicacion_cliente as string) as ubicacion_cliente',\n",
    " 'cast(metodo_pago as string) as metodo_pago',\n",
    " 'cast(estado_pedido as string) as estado_pedido',\n",
    ")\n"
   ]
  },
  {
   "cell_type": "code",
   "execution_count": null,
   "id": "f89d4512",
   "metadata": {},
   "outputs": [],
   "source": [
    "df_transformado.count()"
   ]
  },
  {
   "cell_type": "code",
   "execution_count": null,
   "id": "ed62af4e",
   "metadata": {},
   "outputs": [],
   "source": [
    "df_sinDup = df_transformado.dropDuplicates()\n",
    "\n",
    "df_sinDup.printSchema()\n"
   ]
  },
  {
   "cell_type": "code",
   "execution_count": null,
   "id": "cbe7a413",
   "metadata": {},
   "outputs": [],
   "source": [
    "df_sinDup.printSchema()"
   ]
  },
  {
   "cell_type": "code",
   "execution_count": null,
   "id": "9f80810b",
   "metadata": {},
   "outputs": [],
   "source": [
    "\n"
   ]
  },
  {
   "cell_type": "code",
   "execution_count": 22,
   "id": "bc4c8a7e",
   "metadata": {},
   "outputs": [
    {
     "name": "stdout",
     "output_type": "stream",
     "text": [
      "+-----------------+---------+--------+\n",
      "|ubicacion_cliente|categoria|cantidad|\n",
      "+-----------------+---------+--------+\n",
      "|         Trujillo| Juguetes|      17|\n",
      "|         Trujillo|     NULL|       7|\n",
      "|         Trujillo| Deportes|      29|\n",
      "+-----------------+---------+--------+\n",
      "\n",
      "+-----------------+--------------------+\n",
      "|      metodo_pago|PROMEDIO_TRANSACCION|\n",
      "+-----------------+--------------------+\n",
      "|  Tarjeta Débito |              588.12|\n",
      "|          PayPal |   659.7174999999999|\n",
      "|        Efectivo |   689.5986666666668|\n",
      "|    Transferencia|   740.4325176470588|\n",
      "|           PayPal|   751.6330112994352|\n",
      "|         Efectivo|   780.3083532608697|\n",
      "|   Tarjeta Débito|   801.0704300518139|\n",
      "|  Tarjeta Crédito|   835.6519837837837|\n",
      "| Tarjeta Crédito |   878.0018666666668|\n",
      "|   Transferencia |   886.8972857142859|\n",
      "+-----------------+--------------------+\n",
      "\n"
     ]
    }
   ],
   "source": [
    "# ¿Cuáles son las 3 categorías de productos más vendidas por ubicación?\n",
    "\n",
    "# GROUPBY(UBICACION)\n",
    "# COUNT(CATEGORIAS)\n",
    "\n",
    "df_conteo = df_sinDup.groupBy(\"ubicacion_cliente\", \"categoria\") \\\n",
    "    .agg(count(\"*\").alias(\"cantidad\")).orderBy(desc(\"ubicacion_cliente\")).limit(3).show()\n",
    "\n",
    "# ¿Cuál es el valor promedio de transacción por método de pago?\n",
    "\n",
    "# GROUPBY METODO DE PAGO\n",
    "# AVR(TRANSACCION)\n",
    "\n",
    "df_sinDup.groupBy('metodo_pago').agg(\n",
    "    avg('total').alias('PROMEDIO_TRANSACCION')\n",
    ").orderBy('PROMEDIO_TRANSACCION').show()\n",
    "\n",
    "# ¿Existe alguna tendencia notable en las ventas por día de la semana?\n",
    "\n"
   ]
  },
  {
   "cell_type": "code",
   "execution_count": 23,
   "id": "53d1270a",
   "metadata": {},
   "outputs": [
    {
     "name": "stdout",
     "output_type": "stream",
     "text": [
      "root\n",
      " |-- id_transaccion: string (nullable = true)\n",
      " |-- fecha: date (nullable = true)\n",
      " |-- id_cliente: string (nullable = true)\n",
      " |-- id_producto: string (nullable = true)\n",
      " |-- categoria: string (nullable = true)\n",
      " |-- subcategoria: string (nullable = true)\n",
      " |-- precio: double (nullable = true)\n",
      " |-- cantidad: integer (nullable = true)\n",
      " |-- total: double (nullable = true)\n",
      " |-- ubicacion_cliente: string (nullable = true)\n",
      " |-- metodo_pago: string (nullable = true)\n",
      " |-- estado_pedido: string (nullable = true)\n",
      "\n"
     ]
    }
   ],
   "source": [
    "df_sinDup.printSchema()"
   ]
  },
  {
   "cell_type": "code",
   "execution_count": 30,
   "id": "64a0cda5",
   "metadata": {},
   "outputs": [
    {
     "name": "stdout",
     "output_type": "stream",
     "text": [
      "+----------+--------+\n",
      "|     fecha|Cantidad|\n",
      "+----------+--------+\n",
      "|2025-05-02|       3|\n",
      "|2025-05-01|       4|\n",
      "|2025-04-30|       1|\n",
      "|2025-04-29|       3|\n",
      "|2025-04-28|       1|\n",
      "|2025-04-27|       4|\n",
      "|2025-04-26|       5|\n",
      "|2025-04-25|       4|\n",
      "|2025-04-24|       3|\n",
      "|2025-04-23|       2|\n",
      "|2025-04-22|       5|\n",
      "|2025-04-21|       3|\n",
      "|2025-04-20|      11|\n",
      "|2025-04-19|       4|\n",
      "|2025-04-18|       2|\n",
      "|2025-04-17|       1|\n",
      "|2025-04-16|       2|\n",
      "|2025-04-15|       2|\n",
      "|2025-04-14|       5|\n",
      "|2025-04-13|       9|\n",
      "+----------+--------+\n",
      "only showing top 20 rows\n",
      "\n"
     ]
    }
   ],
   "source": [
    "# ¿Existe alguna tendencia notable en las ventas por día de la semana?\n",
    "\n",
    "df_sinDup.groupBy('fecha').agg(\n",
    "    count('id_transaccion').alias('Cantidad')\n",
    ").orderBy(desc('fecha')).show()\n",
    "\n"
   ]
  },
  {
   "cell_type": "code",
   "execution_count": null,
   "id": "07bde3a5",
   "metadata": {},
   "outputs": [],
   "source": []
  }
 ],
 "metadata": {
  "kernelspec": {
   "display_name": "env310",
   "language": "python",
   "name": "python3"
  },
  "language_info": {
   "codemirror_mode": {
    "name": "ipython",
    "version": 3
   },
   "file_extension": ".py",
   "mimetype": "text/x-python",
   "name": "python",
   "nbconvert_exporter": "python",
   "pygments_lexer": "ipython3",
   "version": "3.10.9"
  }
 },
 "nbformat": 4,
 "nbformat_minor": 5
}
