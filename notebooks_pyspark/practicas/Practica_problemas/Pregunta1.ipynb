{
 "cells": [
  {
   "cell_type": "code",
   "execution_count": 2,
   "id": "e63930f7",
   "metadata": {},
   "outputs": [],
   "source": [
    "import findspark\n",
    "findspark.init()\n",
    "\n",
    "from pyspark.sql import SparkSession\n",
    "\n",
    "spark = SparkSession.builder.getOrCreate()"
   ]
  },
  {
   "cell_type": "code",
   "execution_count": 3,
   "id": "01486393",
   "metadata": {},
   "outputs": [],
   "source": [
    "#Objetivo: Obtener los 10 jugadores que han aparecido en más partidos.\n",
    "\n",
    "apariciones = spark.read.option('header','True').csv('../../data/practica/appearances.csv')\n",
    "jugadores = spark.read.option('header','True').csv('../../data/practica/players.csv')"
   ]
  },
  {
   "cell_type": "code",
   "execution_count": 4,
   "id": "db76cc60",
   "metadata": {},
   "outputs": [
    {
     "name": "stdout",
     "output_type": "stream",
     "text": [
      "root\n",
      " |-- player_id: string (nullable = true)\n",
      " |-- game_id: string (nullable = true)\n",
      " |-- appearance_id: string (nullable = true)\n",
      " |-- competition_id: string (nullable = true)\n",
      " |-- player_club_id: string (nullable = true)\n",
      " |-- goals: string (nullable = true)\n",
      " |-- assists: string (nullable = true)\n",
      " |-- minutes_played: string (nullable = true)\n",
      " |-- yellow_cards: string (nullable = true)\n",
      " |-- red_cards: string (nullable = true)\n",
      "\n"
     ]
    }
   ],
   "source": [
    "apariciones.printSchema()"
   ]
  },
  {
   "cell_type": "code",
   "execution_count": 18,
   "id": "b7ba63c1",
   "metadata": {},
   "outputs": [
    {
     "name": "stdout",
     "output_type": "stream",
     "text": [
      "+---------+---------------+-------------------+-------------------+----------------+----------------------+-------------+----------+--------------+-----+------------+-------------------+---------------------------+--------------------+\n",
      "|player_id|current_club_id|               name|        pretty_name|country_of_birth|country_of_citizenship|date_of_birth|  position|  sub_position| foot|height_in_cm|market_value_in_gbp|highest_market_value_in_gbp|                 url|\n",
      "+---------+---------------+-------------------+-------------------+----------------+----------------------+-------------+----------+--------------+-----+------------+-------------------+---------------------------+--------------------+\n",
      "|    38790|          28095|     dmitri-golubov|     Dmitri Golubov|           UdSSR|                Russia|   1985-06-24|    Attack|Centre-Forward| Both|         178|               NULL|                   675000.0|https://www.trans...|\n",
      "|   106539|          28095| aleksandr-vasiljev| Aleksandr Vasiljev|          Russia|                Russia|   1992-01-23|    Attack|  Right Winger|Right|         182|               NULL|                   225000.0|https://www.trans...|\n",
      "|   164389|           2288|      rory-donnelly|      Rory Donnelly|Northern Ireland|      Northern Ireland|   1992-02-18|    Attack|Centre-Forward|Right|         188|           113000.0|                   225000.0|https://www.trans...|\n",
      "|    45247|           1162|     damien-perquis|     Damien Perquis|          France|                France|   1986-03-08|Goalkeeper|    Goalkeeper|Right|         186|               NULL|                   900000.0|https://www.trans...|\n",
      "|    97205|          28095|nikita-bezlikhotnov|Nikita Bezlikhotnov|           UdSSR|                Russia|   1990-08-19|    Attack|  Right Winger|Right|         179|               NULL|                   675000.0|https://www.trans...|\n",
      "+---------+---------------+-------------------+-------------------+----------------+----------------------+-------------+----------+--------------+-----+------------+-------------------+---------------------------+--------------------+\n",
      "only showing top 5 rows\n",
      "\n"
     ]
    }
   ],
   "source": [
    "jugadores.show(5)"
   ]
  },
  {
   "cell_type": "code",
   "execution_count": 30,
   "id": "d1f2a148",
   "metadata": {},
   "outputs": [],
   "source": [
    "from pyspark.sql.functions import col,desc,lit\n",
    "a = apariciones.alias('a')\n",
    "j = jugadores.alias('j')\n",
    "\n",
    "df_join = j.join(a, a.player_id == j.player_id,'inner')"
   ]
  },
  {
   "cell_type": "code",
   "execution_count": 13,
   "id": "4dd930a9",
   "metadata": {},
   "outputs": [
    {
     "name": "stdout",
     "output_type": "stream",
     "text": [
      "+-----------+-----+\n",
      "|       name|count|\n",
      "+-----------+-----+\n",
      "|   paulinho|  744|\n",
      "|    marcelo|  688|\n",
      "|     danilo|  648|\n",
      "|  guilherme|  591|\n",
      "| joao-pedro|  451|\n",
      "|     felipe|  416|\n",
      "|    charles|  412|\n",
      "|luis-suarez|  393|\n",
      "|scott-brown|  388|\n",
      "|    rodrigo|  380|\n",
      "+-----------+-----+\n",
      "\n"
     ]
    }
   ],
   "source": [
    "#Objetivo: Obtener los 10 jugadores que han aparecido en más partidos.\n",
    "df_join.groupBy(j.name).count().orderBy(desc('count')).limit(10).show()"
   ]
  },
  {
   "cell_type": "code",
   "execution_count": 14,
   "id": "e27d467e",
   "metadata": {},
   "outputs": [],
   "source": [
    "# Ejercicio 2: Promedio de edad por club\n",
    "clubs = spark.read.option('header','True').csv('../../data/practica/clubs.csv')\n"
   ]
  },
  {
   "cell_type": "code",
   "execution_count": 16,
   "id": "2c69227e",
   "metadata": {},
   "outputs": [
    {
     "name": "stdout",
     "output_type": "stream",
     "text": [
      "root\n",
      " |-- club_id: string (nullable = true)\n",
      " |-- name: string (nullable = true)\n",
      " |-- pretty_name: string (nullable = true)\n",
      " |-- domestic_competition_id: string (nullable = true)\n",
      " |-- total_market_value: string (nullable = true)\n",
      " |-- squad_size: string (nullable = true)\n",
      " |-- average_age: string (nullable = true)\n",
      " |-- foreigners_number: string (nullable = true)\n",
      " |-- foreigners_percentage: string (nullable = true)\n",
      " |-- national_team_players: string (nullable = true)\n",
      " |-- stadium_name: string (nullable = true)\n",
      " |-- stadium_seats: string (nullable = true)\n",
      " |-- net_transfer_record: string (nullable = true)\n",
      " |-- coach_name: string (nullable = true)\n",
      " |-- url: string (nullable = true)\n",
      "\n"
     ]
    }
   ],
   "source": [
    "clubs.printSchema()"
   ]
  },
  {
   "cell_type": "code",
   "execution_count": 54,
   "id": "bab0be42",
   "metadata": {},
   "outputs": [],
   "source": [
    "#2: Promedio de edad por club\n",
    "from datetime import date\n",
    "from pyspark.sql.functions import lit, datediff, floor,avg\n",
    "\n",
    "c = clubs.alias('c')\n",
    "\n",
    "df_p2 = j.join(c,j.current_club_id == c.club_id)\n",
    "\n",
    "hoy = date.today()\n",
    "\n",
    "df_final = df_p2.withColumn('Fecha_act',lit(hoy))\n",
    "\n",
    "df_p2_edad = df_final.withColumn('edad',(floor(datediff(col('Fecha_act'),col('date_of_birth'))/ 365)))"
   ]
  },
  {
   "cell_type": "code",
   "execution_count": 48,
   "id": "c92527f2",
   "metadata": {},
   "outputs": [
    {
     "name": "stdout",
     "output_type": "stream",
     "text": [
      "+---------+---------------+-------------------+-------------------+----------------+----------------------+-------------+----------+--------------+-----+------------+-------------------+---------------------------+--------------------+-------+------------+------------+-----------------------+------------------+----------+-----------+-----------------+---------------------+---------------------+--------------------+-------------+-------------------+----------------+--------------------+----------+----+\n",
      "|player_id|current_club_id|               name|        pretty_name|country_of_birth|country_of_citizenship|date_of_birth|  position|  sub_position| foot|height_in_cm|market_value_in_gbp|highest_market_value_in_gbp|                 url|club_id|        name| pretty_name|domestic_competition_id|total_market_value|squad_size|average_age|foreigners_number|foreigners_percentage|national_team_players|        stadium_name|stadium_seats|net_transfer_record|      coach_name|                 url| Fecha_act|edad|\n",
      "+---------+---------------+-------------------+-------------------+----------------+----------------------+-------------+----------+--------------+-----+------------+-------------------+---------------------------+--------------------+-------+------------+------------+-----------------------+------------------+----------+-----------+-----------------+---------------------+---------------------+--------------------+-------------+-------------------+----------------+--------------------+----------+----+\n",
      "|    38790|          28095|     dmitri-golubov|     Dmitri Golubov|           UdSSR|                Russia|   1985-06-24|    Attack|Centre-Forward| Both|         178|               NULL|                   675000.0|https://www.trans...|  28095|      fk-ufa|      Fk Ufa|                    RU1|             15.89|        24|       27.1|                7|                 29.2|                    4|       BetBoom Arena|        15132|           +£335Th.|Aleksey Stukalov|https://www.trans...|2025-06-28|  40|\n",
      "|   106539|          28095| aleksandr-vasiljev| Aleksandr Vasiljev|          Russia|                Russia|   1992-01-23|    Attack|  Right Winger|Right|         182|               NULL|                   225000.0|https://www.trans...|  28095|      fk-ufa|      Fk Ufa|                    RU1|             15.89|        24|       27.1|                7|                 29.2|                    4|       BetBoom Arena|        15132|           +£335Th.|Aleksey Stukalov|https://www.trans...|2025-06-28|  33|\n",
      "|   164389|           2288|      rory-donnelly|      Rory Donnelly|Northern Ireland|      Northern Ireland|   1992-02-18|    Attack|Centre-Forward|Right|         188|           113000.0|                   225000.0|https://www.trans...|   2288|swansea-city|Swansea City|                    GB1|             33.53|        27|       25.1|               20|                 74.1|                    5|     Liberty Stadium|        21088|            £-1.80m|    Paul Clement|https://www.trans...|2025-06-28|  33|\n",
      "|    45247|           1162|     damien-perquis|     Damien Perquis|          France|                France|   1986-03-08|Goalkeeper|    Goalkeeper|Right|         186|               NULL|                   900000.0|https://www.trans...|   1162|     sm-caen|     Sm Caen|                    FR1|             17.96|        32|       23.8|               11|                 34.4|                    3|Stade Michel-d'Or...|        20500|                +-0| Fabien Mercadal|https://www.trans...|2025-06-28|  39|\n",
      "|    97205|          28095|nikita-bezlikhotnov|Nikita Bezlikhotnov|           UdSSR|                Russia|   1990-08-19|    Attack|  Right Winger|Right|         179|               NULL|                   675000.0|https://www.trans...|  28095|      fk-ufa|      Fk Ufa|                    RU1|             15.89|        24|       27.1|                7|                 29.2|                    4|       BetBoom Arena|        15132|           +£335Th.|Aleksey Stukalov|https://www.trans...|2025-06-28|  34|\n",
      "+---------+---------------+-------------------+-------------------+----------------+----------------------+-------------+----------+--------------+-----+------------+-------------------+---------------------------+--------------------+-------+------------+------------+-----------------------+------------------+----------+-----------+-----------------+---------------------+---------------------+--------------------+-------------+-------------------+----------------+--------------------+----------+----+\n",
      "only showing top 5 rows\n",
      "\n"
     ]
    }
   ],
   "source": [
    "df_p2_edad.show(5)"
   ]
  },
  {
   "cell_type": "code",
   "execution_count": null,
   "id": "6069d725",
   "metadata": {},
   "outputs": [
    {
     "name": "stdout",
     "output_type": "stream",
     "text": [
      "+--------------------+------------------+\n",
      "|                name|     edad_promedio|\n",
      "+--------------------+------------------+\n",
      "|    metalurg-donetsk| 38.57142857142857|\n",
      "|thonon-evian-gran...|              38.5|\n",
      "|         fc-penafiel| 38.27777777777778|\n",
      "|      torpedo-moskau|             37.75|\n",
      "|           cesena-fc|37.388888888888886|\n",
      "+--------------------+------------------+\n",
      "only showing top 5 rows\n",
      "\n"
     ]
    },
    {
     "ename": "",
     "evalue": "",
     "output_type": "error",
     "traceback": [
      "\u001b[1;31mThe Kernel crashed while executing code in the current cell or a previous cell. \n",
      "\u001b[1;31mPlease review the code in the cell(s) to identify a possible cause of the failure. \n",
      "\u001b[1;31mClick <a href='https://aka.ms/vscodeJupyterKernelCrash'>here</a> for more info. \n",
      "\u001b[1;31mView Jupyter <a href='command:jupyter.viewOutput'>log</a> for further details."
     ]
    }
   ],
   "source": [
    "df_p2_edad.groupBy(c.name) \\\n",
    "    .agg(avg(col(\"edad\")).alias(\"edad_promedio\")) \\\n",
    "    .orderBy(\"edad_promedio\", ascending=False) \\\n",
    "    .show(5)"
   ]
  },
  {
   "cell_type": "code",
   "execution_count": null,
   "id": "2c3ed8be",
   "metadata": {},
   "outputs": [],
   "source": [
    "#🧠 Ejercicio 3: Goles por liga\n"
   ]
  }
 ],
 "metadata": {
  "kernelspec": {
   "display_name": "env310",
   "language": "python",
   "name": "python3"
  },
  "language_info": {
   "codemirror_mode": {
    "name": "ipython",
    "version": 3
   },
   "file_extension": ".py",
   "mimetype": "text/x-python",
   "name": "python",
   "nbconvert_exporter": "python",
   "pygments_lexer": "ipython3",
   "version": "3.10.9"
  }
 },
 "nbformat": 4,
 "nbformat_minor": 5
}
