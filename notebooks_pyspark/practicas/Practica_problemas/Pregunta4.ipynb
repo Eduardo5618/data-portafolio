{
 "cells": [
  {
   "cell_type": "markdown",
   "id": "2c66e94a",
   "metadata": {},
   "source": [
    "🧠 Ejercicio 5: Rendimiento por club en una temporada\n",
    "Objetivo: Calcular partidos jugados, ganados, perdidos y empatados por club en la temporada 2022/2023.\n",
    "\n",
    "Archivos requeridos:\n",
    "\n",
    "games.csv\n",
    "\n",
    "clubs.csv\n",
    "\n",
    "Instrucciones:\n",
    "\n",
    "Filtra los juegos con season == '2022/2023'.\n",
    "\n",
    "Por cada club:\n",
    "\n",
    "Cuenta partidos jugados como local o visitante.\n",
    "\n",
    "Cuenta ganados, perdidos y empatados.\n",
    "\n",
    "Une con clubs para obtener el nombre del club.\n",
    "\n",
    "Muestra el ranking por mayor cantidad de partidos ganados."
   ]
  },
  {
   "cell_type": "code",
   "execution_count": 1,
   "id": "58b84bb2",
   "metadata": {},
   "outputs": [],
   "source": [
    "import findspark\n",
    "findspark.init()\n",
    "\n",
    "from pyspark.sql import SparkSession\n",
    "\n",
    "spark = SparkSession.builder.getOrCreate()\n",
    "\n",
    "games = spark.read.option('header','True').csv('../../data/practica/games.csv')\n",
    "clubs = spark.read.option('header','True').csv('../../data/practica/clubs.csv')"
   ]
  },
  {
   "cell_type": "code",
   "execution_count": 2,
   "id": "5654aeb7",
   "metadata": {},
   "outputs": [
    {
     "name": "stdout",
     "output_type": "stream",
     "text": [
      "root\n",
      " |-- game_id: string (nullable = true)\n",
      " |-- competition_code: string (nullable = true)\n",
      " |-- season: string (nullable = true)\n",
      " |-- round: string (nullable = true)\n",
      " |-- date: string (nullable = true)\n",
      " |-- home_club_id: string (nullable = true)\n",
      " |-- away_club_id: string (nullable = true)\n",
      " |-- home_club_goals: string (nullable = true)\n",
      " |-- away_club_goals: string (nullable = true)\n",
      " |-- home_club_position: string (nullable = true)\n",
      " |-- away_club_position: string (nullable = true)\n",
      " |-- stadium: string (nullable = true)\n",
      " |-- attendance: string (nullable = true)\n",
      " |-- referee: string (nullable = true)\n",
      " |-- url: string (nullable = true)\n",
      "\n",
      "root\n",
      " |-- club_id: string (nullable = true)\n",
      " |-- name: string (nullable = true)\n",
      " |-- pretty_name: string (nullable = true)\n",
      " |-- domestic_competition_id: string (nullable = true)\n",
      " |-- total_market_value: string (nullable = true)\n",
      " |-- squad_size: string (nullable = true)\n",
      " |-- average_age: string (nullable = true)\n",
      " |-- foreigners_number: string (nullable = true)\n",
      " |-- foreigners_percentage: string (nullable = true)\n",
      " |-- national_team_players: string (nullable = true)\n",
      " |-- stadium_name: string (nullable = true)\n",
      " |-- stadium_seats: string (nullable = true)\n",
      " |-- net_transfer_record: string (nullable = true)\n",
      " |-- coach_name: string (nullable = true)\n",
      " |-- url: string (nullable = true)\n",
      "\n"
     ]
    }
   ],
   "source": [
    "games.printSchema()\n",
    "clubs.printSchema()"
   ]
  },
  {
   "cell_type": "code",
   "execution_count": 35,
   "id": "370497c5",
   "metadata": {},
   "outputs": [],
   "source": [
    "from pyspark.sql.functions import col,desc,when,count,sum\n",
    "g = games.alias('g')\n",
    "c = clubs.alias('c')\n",
    "\n",
    "join_p1 = g.join(c, c.club_id == g.home_club_id)\n",
    "\n",
    "df_calculo = join_p1.withColumn('resultado', \n",
    "                                when(g.home_club_goals > g.away_club_goals , 'WIN').\n",
    "                                when(g.home_club_goals < g.away_club_goals , 'LOSE').\n",
    "                                otherwise('DRAW')\n",
    "                                )"
   ]
  },
  {
   "cell_type": "code",
   "execution_count": 20,
   "id": "253aadf2",
   "metadata": {},
   "outputs": [
    {
     "name": "stdout",
     "output_type": "stream",
     "text": [
      "root\n",
      " |-- game_id: string (nullable = true)\n",
      " |-- competition_code: string (nullable = true)\n",
      " |-- season: string (nullable = true)\n",
      " |-- round: string (nullable = true)\n",
      " |-- date: string (nullable = true)\n",
      " |-- home_club_id: string (nullable = true)\n",
      " |-- away_club_id: string (nullable = true)\n",
      " |-- home_club_goals: string (nullable = true)\n",
      " |-- away_club_goals: string (nullable = true)\n",
      " |-- home_club_position: string (nullable = true)\n",
      " |-- away_club_position: string (nullable = true)\n",
      " |-- stadium: string (nullable = true)\n",
      " |-- attendance: string (nullable = true)\n",
      " |-- referee: string (nullable = true)\n",
      " |-- url: string (nullable = true)\n",
      " |-- club_id: string (nullable = true)\n",
      " |-- name: string (nullable = true)\n",
      " |-- pretty_name: string (nullable = true)\n",
      " |-- domestic_competition_id: string (nullable = true)\n",
      " |-- total_market_value: string (nullable = true)\n",
      " |-- squad_size: string (nullable = true)\n",
      " |-- average_age: string (nullable = true)\n",
      " |-- foreigners_number: string (nullable = true)\n",
      " |-- foreigners_percentage: string (nullable = true)\n",
      " |-- national_team_players: string (nullable = true)\n",
      " |-- stadium_name: string (nullable = true)\n",
      " |-- stadium_seats: string (nullable = true)\n",
      " |-- net_transfer_record: string (nullable = true)\n",
      " |-- coach_name: string (nullable = true)\n",
      " |-- url: string (nullable = true)\n",
      " |-- resultado: string (nullable = false)\n",
      "\n"
     ]
    }
   ],
   "source": [
    "df_calculo.printSchema()\n"
   ]
  },
  {
   "cell_type": "code",
   "execution_count": 36,
   "id": "7c5924e9",
   "metadata": {},
   "outputs": [],
   "source": [
    "#groupBy(clubs)\n",
    "#count(game_id)\n",
    "#count(game_id).filter(resultado == 'WIN')\n",
    "#count(game_id).filter(resultado == 'LOSE')\n",
    "#count(game_id).filter(resultado == 'DRAW')\n",
    "df_resultado = df_calculo.groupBy(\"name\").agg(\n",
    "    count(\"game_id\").alias(\"TOTAL_JUEGOS\"),\n",
    "    sum(when(col(\"resultado\") == \"WIN\", 1).otherwise(0)).alias(\"GANADOS\"),\n",
    "    sum(when(col(\"resultado\") == \"DRAW\", 1).otherwise(0)).alias(\"EMPATADOS\"),\n",
    "    sum(when(col(\"resultado\") == \"LOSE\", 1).otherwise(0)).alias(\"PERDIDOS\")\n",
    ")\n"
   ]
  },
  {
   "cell_type": "code",
   "execution_count": 38,
   "id": "8d276962",
   "metadata": {},
   "outputs": [
    {
     "name": "stdout",
     "output_type": "stream",
     "text": [
      "+--------------+------------+-------+---------+--------+\n",
      "|          name|TOTAL_JUEGOS|GANADOS|EMPATADOS|PERDIDOS|\n",
      "+--------------+------------+-------+---------+--------+\n",
      "|  fc-barcelona|         214|    167|       27|      20|\n",
      "|    fc-sevilla|         207|    144|       35|      28|\n",
      "|   real-madrid|         207|    146|       32|      29|\n",
      "|juventus-turin|         204|    158|       25|      21|\n",
      "|celtic-glasgow|         198|    147|       28|      23|\n",
      "+--------------+------------+-------+---------+--------+\n",
      "only showing top 5 rows\n",
      "\n"
     ]
    }
   ],
   "source": [
    "df_resultado.orderBy(desc('TOTAL_JUEGOS')).show(5)"
   ]
  },
  {
   "cell_type": "code",
   "execution_count": null,
   "id": "881389e8",
   "metadata": {},
   "outputs": [],
   "source": []
  }
 ],
 "metadata": {
  "kernelspec": {
   "display_name": "env310",
   "language": "python",
   "name": "python3"
  },
  "language_info": {
   "codemirror_mode": {
    "name": "ipython",
    "version": 3
   },
   "file_extension": ".py",
   "mimetype": "text/x-python",
   "name": "python",
   "nbconvert_exporter": "python",
   "pygments_lexer": "ipython3",
   "version": "3.10.9"
  }
 },
 "nbformat": 4,
 "nbformat_minor": 5
}
