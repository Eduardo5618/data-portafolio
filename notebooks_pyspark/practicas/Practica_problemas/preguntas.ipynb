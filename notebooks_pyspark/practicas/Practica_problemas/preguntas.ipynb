{
 "cells": [
  {
   "cell_type": "code",
   "execution_count": null,
   "id": "4a0ef5ef",
   "metadata": {},
   "outputs": [],
   "source": [
    "import findspark\n",
    "findspark.init()\n",
    "\n",
    "from pyspark.sql import SparkSession\n",
    "\n",
    "spark = SparkSession.builder.getOrCreate()"
   ]
  },
  {
   "cell_type": "code",
   "execution_count": null,
   "id": "944af819",
   "metadata": {},
   "outputs": [],
   "source": [
    "df_p1 = spark.read.option('header','True').csv('../../data')"
   ]
  },
  {
   "cell_type": "code",
   "execution_count": null,
   "id": "409dcda7",
   "metadata": {},
   "outputs": [],
   "source": [
    "df_p1.printSchema()"
   ]
  },
  {
   "cell_type": "code",
   "execution_count": null,
   "id": "ff094707",
   "metadata": {},
   "outputs": [],
   "source": [
    "df_p1.show()"
   ]
  },
  {
   "cell_type": "code",
   "execution_count": null,
   "id": "50833a7d",
   "metadata": {},
   "outputs": [],
   "source": [
    "from pyspark.sql.functions import col,cast"
   ]
  },
  {
   "cell_type": "code",
   "execution_count": null,
   "id": "edd1e656",
   "metadata": {},
   "outputs": [],
   "source": [
    "df_p1.select(col('nombre'),col('departamento'),col('salario')).show()"
   ]
  },
  {
   "cell_type": "code",
   "execution_count": null,
   "id": "7ca19175",
   "metadata": {},
   "outputs": [],
   "source": [
    "df_p1.withColumn('salario_anual ',(col('salario')*12)).show()"
   ]
  },
  {
   "cell_type": "code",
   "execution_count": 38,
   "id": "8b1d6422",
   "metadata": {},
   "outputs": [],
   "source": [
    "df_nuevo = df_p1.withColumn('edad',col('edad').cast('Integer'))"
   ]
  },
  {
   "cell_type": "code",
   "execution_count": 39,
   "id": "93c989c9",
   "metadata": {},
   "outputs": [
    {
     "name": "stdout",
     "output_type": "stream",
     "text": [
      "root\n",
      " |-- id: string (nullable = true)\n",
      " |-- nombre: string (nullable = true)\n",
      " |-- edad: integer (nullable = true)\n",
      " |-- departamento: string (nullable = true)\n",
      " |-- salario: string (nullable = true)\n",
      " |-- fecha_ingreso: string (nullable = true)\n",
      "\n"
     ]
    }
   ],
   "source": [
    "df_nuevo.printSchema()"
   ]
  },
  {
   "cell_type": "code",
   "execution_count": 40,
   "id": "b85857bc",
   "metadata": {},
   "outputs": [
    {
     "name": "stdout",
     "output_type": "stream",
     "text": [
      "+---+------+----+----------------+-------+-------------+\n",
      "| id|nombre|edad|    departamento|salario|fecha_ingreso|\n",
      "+---+------+----+----------------+-------+-------------+\n",
      "|  1|   Ana|  28|        Finanzas|   2500|   2021-05-10|\n",
      "|  2| Pedro|  35|      Tecnología|   3200|   2020-01-15|\n",
      "|  3| Lucía|  30|Recursos Humanos|   2800|   2022-03-01|\n",
      "|  4| Marco|  45|      Tecnología|   4000|   2018-07-23|\n",
      "|  5|  Sara|  25|        Finanzas|   2300|   2023-02-10|\n",
      "|  6| David|  29|       Marketing|   2600|   2021-09-15|\n",
      "|  7| Elena|NULL|       Marketing|   2400|   2021-10-01|\n",
      "+---+------+----+----------------+-------+-------------+\n",
      "\n"
     ]
    }
   ],
   "source": [
    "df_nuevo.show()"
   ]
  },
  {
   "cell_type": "code",
   "execution_count": 41,
   "id": "8dc923f6",
   "metadata": {},
   "outputs": [],
   "source": [
    "df_sinNulos = df_nuevo.dropna()"
   ]
  },
  {
   "cell_type": "code",
   "execution_count": 42,
   "id": "50317d85",
   "metadata": {},
   "outputs": [
    {
     "name": "stdout",
     "output_type": "stream",
     "text": [
      "+---+------+----+----------------+-------+-------------+\n",
      "| id|nombre|edad|    departamento|salario|fecha_ingreso|\n",
      "+---+------+----+----------------+-------+-------------+\n",
      "|  1|   Ana|  28|        Finanzas|   2500|   2021-05-10|\n",
      "|  2| Pedro|  35|      Tecnología|   3200|   2020-01-15|\n",
      "|  3| Lucía|  30|Recursos Humanos|   2800|   2022-03-01|\n",
      "|  4| Marco|  45|      Tecnología|   4000|   2018-07-23|\n",
      "|  5|  Sara|  25|        Finanzas|   2300|   2023-02-10|\n",
      "|  6| David|  29|       Marketing|   2600|   2021-09-15|\n",
      "+---+------+----+----------------+-------+-------------+\n",
      "\n"
     ]
    }
   ],
   "source": [
    "df_sinNulos.show()"
   ]
  },
  {
   "cell_type": "code",
   "execution_count": 43,
   "id": "59455a34",
   "metadata": {},
   "outputs": [
    {
     "name": "stdout",
     "output_type": "stream",
     "text": [
      "+---+------+----+----------------+-------+-------------+\n",
      "| id|nombre|edad|    departamento|salario|fecha_ingreso|\n",
      "+---+------+----+----------------+-------+-------------+\n",
      "|  1|   Ana|  28|        Finanzas|   2500|   2021-05-10|\n",
      "|  2| Pedro|  35|      Tecnología|   3200|   2020-01-15|\n",
      "|  3| Lucía|  30|Recursos Humanos|   2800|   2022-03-01|\n",
      "|  4| Marco|  45|      Tecnología|   4000|   2018-07-23|\n",
      "|  5|  Sara|  25|        Finanzas|   2300|   2023-02-10|\n",
      "|  6| David|  29|       Marketing|   2600|   2021-09-15|\n",
      "|  7| Elena|  30|       Marketing|   2400|   2021-10-01|\n",
      "+---+------+----+----------------+-------+-------------+\n",
      "\n"
     ]
    }
   ],
   "source": [
    "df_remplazado = df_nuevo.fillna(30,subset=['edad'])\n",
    "df_remplazado.show()"
   ]
  },
  {
   "cell_type": "code",
   "execution_count": 45,
   "id": "e5c0c503",
   "metadata": {},
   "outputs": [
    {
     "name": "stdout",
     "output_type": "stream",
     "text": [
      "+---+------+----+------------+-------+-------------+\n",
      "| id|nombre|edad|departamento|salario|fecha_ingreso|\n",
      "+---+------+----+------------+-------+-------------+\n",
      "|  2| Pedro|  35|  Tecnología|   3200|   2020-01-15|\n",
      "|  4| Marco|  45|  Tecnología|   4000|   2018-07-23|\n",
      "+---+------+----+------------+-------+-------------+\n",
      "\n"
     ]
    }
   ],
   "source": [
    "df_remplazado.filter(col('departamento') == 'Tecnología').show()"
   ]
  },
  {
   "cell_type": "code",
   "execution_count": 48,
   "id": "eea1b794",
   "metadata": {},
   "outputs": [
    {
     "name": "stdout",
     "output_type": "stream",
     "text": [
      "+---+------+----+----------------+-------+-------------+\n",
      "| id|nombre|edad|    departamento|salario|fecha_ingreso|\n",
      "+---+------+----+----------------+-------+-------------+\n",
      "|  1|   Ana|  28|        Finanzas|   2500|   2021-05-10|\n",
      "|  2| Pedro|  35|      Tecnología|   3200|   2020-01-15|\n",
      "|  3| Lucía|  30|Recursos Humanos|   2800|   2022-03-01|\n",
      "|  6| David|  29|       Marketing|   2600|   2021-09-15|\n",
      "+---+------+----+----------------+-------+-------------+\n",
      "\n"
     ]
    }
   ],
   "source": [
    "df_remplazado.filter((col('salario') >= 2500) & (col('edad') <= 35)).show()"
   ]
  },
  {
   "cell_type": "code",
   "execution_count": 55,
   "id": "79575851",
   "metadata": {},
   "outputs": [
    {
     "name": "stdout",
     "output_type": "stream",
     "text": [
      "+---+------+----+----------------+-------+-------------+\n",
      "| id|nombre|edad|    departamento|salario|fecha_ingreso|\n",
      "+---+------+----+----------------+-------+-------------+\n",
      "|  3| Lucía|  30|Recursos Humanos|   2800|   2022-03-01|\n",
      "|  6| David|  29|       Marketing|   2600|   2021-09-15|\n",
      "|  7| Elena|  30|       Marketing|   2400|   2021-10-01|\n",
      "+---+------+----+----------------+-------+-------------+\n",
      "\n"
     ]
    }
   ],
   "source": [
    "df_remplazado.filter(col('departamento').isin(['Marketing','Recursos Humanos'])).show()"
   ]
  },
  {
   "cell_type": "code",
   "execution_count": null,
   "id": "30a72a45",
   "metadata": {},
   "outputs": [
    {
     "name": "stdout",
     "output_type": "stream",
     "text": [
      "+-------+-----------------+------+------------------+------------+------------------+-------------+\n",
      "|summary|               id|nombre|              edad|departamento|           salario|fecha_ingreso|\n",
      "+-------+-----------------+------+------------------+------------+------------------+-------------+\n",
      "|  count|                7|     7|                 7|           7|                 7|            7|\n",
      "|   mean|              4.0|  NULL|31.714285714285715|        NULL|2828.5714285714284|         NULL|\n",
      "| stddev|2.160246899469287|  NULL| 6.575568054403759|        NULL| 596.4178784328029|         NULL|\n",
      "|    min|                1|   Ana|                25|    Finanzas|              2300|   2018-07-23|\n",
      "|    max|                7|  Sara|                45|  Tecnología|              4000|   2023-02-10|\n",
      "+-------+-----------------+------+------------------+------------+------------------+-------------+\n",
      "\n"
     ]
    }
   ],
   "source": []
  },
  {
   "cell_type": "code",
   "execution_count": null,
   "id": "14120fc7",
   "metadata": {},
   "outputs": [],
   "source": []
  }
 ],
 "metadata": {
  "kernelspec": {
   "display_name": "env310",
   "language": "python",
   "name": "python3"
  },
  "language_info": {
   "codemirror_mode": {
    "name": "ipython",
    "version": 3
   },
   "file_extension": ".py",
   "mimetype": "text/x-python",
   "name": "python",
   "nbconvert_exporter": "python",
   "pygments_lexer": "ipython3",
   "version": "3.10.9"
  }
 },
 "nbformat": 4,
 "nbformat_minor": 5
}
