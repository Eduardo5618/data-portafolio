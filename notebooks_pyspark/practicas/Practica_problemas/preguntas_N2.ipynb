{
 "cells": [
  {
   "cell_type": "code",
   "execution_count": 1,
   "id": "716991c3",
   "metadata": {},
   "outputs": [],
   "source": [
    "import findspark\n",
    "findspark.init()\n",
    "\n",
    "from pyspark.sql import SparkSession\n",
    "\n",
    "spark = SparkSession.builder.getOrCreate()"
   ]
  },
  {
   "cell_type": "code",
   "execution_count": 2,
   "id": "9bc10aea",
   "metadata": {},
   "outputs": [],
   "source": [
    "df_ventas = spark.read.option('header','True').csv('../../data/ventas.csv')"
   ]
  },
  {
   "cell_type": "code",
   "execution_count": 5,
   "id": "2d796958",
   "metadata": {},
   "outputs": [
    {
     "name": "stdout",
     "output_type": "stream",
     "text": [
      "root\n",
      " |-- id_venta: string (nullable = true)\n",
      " |-- cliente: string (nullable = true)\n",
      " |-- producto: string (nullable = true)\n",
      " |-- categoria: string (nullable = true)\n",
      " |-- precio: string (nullable = true)\n",
      " |-- cantidad: string (nullable = true)\n",
      " |-- fecha: string (nullable = true)\n",
      "\n"
     ]
    }
   ],
   "source": [
    "df_ventas.printSchema()"
   ]
  },
  {
   "cell_type": "code",
   "execution_count": null,
   "id": "cc35ff65",
   "metadata": {},
   "outputs": [
    {
     "data": {
      "text/plain": [
       "GroupedData[grouping expressions: [], value: [id_venta: string, cliente: string ... 5 more fields], type: GroupBy]"
      ]
     },
     "execution_count": 6,
     "metadata": {},
     "output_type": "execute_result"
    }
   ],
   "source": [
    "#🔹 Ejercicio 1: Monto total por cliente y categoría\n",
    "# Objetivo: Calcular cuánto ha gastado cada cliente por categoría de producto.\n",
    "from pyspark.sql.functions import col,desc,filter\n"
   ]
  },
  {
   "cell_type": "code",
   "execution_count": 11,
   "id": "85b566b6",
   "metadata": {},
   "outputs": [
    {
     "name": "stdout",
     "output_type": "stream",
     "text": [
      "root\n",
      " |-- id_venta: string (nullable = true)\n",
      " |-- cliente: string (nullable = true)\n",
      " |-- producto: string (nullable = true)\n",
      " |-- categoria: string (nullable = true)\n",
      " |-- precio: string (nullable = true)\n",
      " |-- cantidad: string (nullable = true)\n",
      " |-- fecha: string (nullable = true)\n",
      " |-- monto: double (nullable = true)\n",
      "\n"
     ]
    }
   ],
   "source": [
    "df_conMonto = df_ventas.withColumn('monto',(col('precio')*col('cantidad')))\n",
    "df_conMonto.printSchema()"
   ]
  },
  {
   "cell_type": "code",
   "execution_count": 12,
   "id": "68cce221",
   "metadata": {},
   "outputs": [
    {
     "ename": "PySparkTypeError",
     "evalue": "[NOT_ITERABLE] Column is not iterable.",
     "output_type": "error",
     "traceback": [
      "\u001b[1;31m---------------------------------------------------------------------------\u001b[0m",
      "\u001b[1;31mPySparkTypeError\u001b[0m                          Traceback (most recent call last)",
      "Cell \u001b[1;32mIn[12], line 2\u001b[0m\n\u001b[0;32m      1\u001b[0m df_conMonto\u001b[38;5;241m.\u001b[39mgroupBy(col(\u001b[38;5;124m'\u001b[39m\u001b[38;5;124mcliente\u001b[39m\u001b[38;5;124m'\u001b[39m),col(\u001b[38;5;124m'\u001b[39m\u001b[38;5;124mcategoria\u001b[39m\u001b[38;5;124m'\u001b[39m))\u001b[38;5;241m.\u001b[39magg(\n\u001b[1;32m----> 2\u001b[0m     \u001b[38;5;28;43msum\u001b[39;49m\u001b[43m(\u001b[49m\u001b[43mcol\u001b[49m\u001b[43m(\u001b[49m\u001b[38;5;124;43m'\u001b[39;49m\u001b[38;5;124;43mmonto\u001b[39;49m\u001b[38;5;124;43m'\u001b[39;49m\u001b[43m)\u001b[49m\u001b[43m)\u001b[49m\u001b[38;5;241m.\u001b[39malias(\u001b[38;5;124m'\u001b[39m\u001b[38;5;124mMONTO\u001b[39m\u001b[38;5;124m'\u001b[39m)\n\u001b[0;32m      3\u001b[0m )\u001b[38;5;241m.\u001b[39morderBy(desc(col(\u001b[38;5;124m'\u001b[39m\u001b[38;5;124mmonto\u001b[39m\u001b[38;5;124m'\u001b[39m)))\u001b[38;5;241m.\u001b[39mshow()\n",
      "File \u001b[1;32mC:\\spark\\python\\pyspark\\sql\\column.py:718\u001b[0m, in \u001b[0;36mColumn.__iter__\u001b[1;34m(self)\u001b[0m\n\u001b[0;32m    717\u001b[0m \u001b[38;5;28;01mdef\u001b[39;00m\u001b[38;5;250m \u001b[39m\u001b[38;5;21m__iter__\u001b[39m(\u001b[38;5;28mself\u001b[39m) \u001b[38;5;241m-\u001b[39m\u001b[38;5;241m>\u001b[39m \u001b[38;5;28;01mNone\u001b[39;00m:\n\u001b[1;32m--> 718\u001b[0m     \u001b[38;5;28;01mraise\u001b[39;00m PySparkTypeError(\n\u001b[0;32m    719\u001b[0m         error_class\u001b[38;5;241m=\u001b[39m\u001b[38;5;124m\"\u001b[39m\u001b[38;5;124mNOT_ITERABLE\u001b[39m\u001b[38;5;124m\"\u001b[39m, message_parameters\u001b[38;5;241m=\u001b[39m{\u001b[38;5;124m\"\u001b[39m\u001b[38;5;124mobjectName\u001b[39m\u001b[38;5;124m\"\u001b[39m: \u001b[38;5;124m\"\u001b[39m\u001b[38;5;124mColumn\u001b[39m\u001b[38;5;124m\"\u001b[39m}\n\u001b[0;32m    720\u001b[0m     )\n",
      "\u001b[1;31mPySparkTypeError\u001b[0m: [NOT_ITERABLE] Column is not iterable."
     ]
    }
   ],
   "source": [
    "df_conMonto.groupBy(col('cliente'),col('categoria')).agg(\n",
    "    sum(col('monto')).alias('MONTO')\n",
    ").orderBy(desc(col('monto'))).show()"
   ]
  },
  {
   "cell_type": "code",
   "execution_count": null,
   "id": "96250605",
   "metadata": {},
   "outputs": [],
   "source": []
  }
 ],
 "metadata": {
  "kernelspec": {
   "display_name": "env310",
   "language": "python",
   "name": "python3"
  },
  "language_info": {
   "codemirror_mode": {
    "name": "ipython",
    "version": 3
   },
   "file_extension": ".py",
   "mimetype": "text/x-python",
   "name": "python",
   "nbconvert_exporter": "python",
   "pygments_lexer": "ipython3",
   "version": "3.10.9"
  }
 },
 "nbformat": 4,
 "nbformat_minor": 5
}
