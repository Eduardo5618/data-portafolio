{
 "cells": [
  {
   "cell_type": "markdown",
   "id": "15f9509f",
   "metadata": {},
   "source": [
    "🧠 Ejercicio 3: Goles por liga"
   ]
  },
  {
   "cell_type": "code",
   "execution_count": null,
   "id": "bb2add59",
   "metadata": {},
   "outputs": [],
   "source": [
    "import findspark\n",
    "findspark.init()\n",
    "\n",
    "from pyspark.sql import SparkSession\n",
    "\n",
    "spark = SparkSession.builder.getOrCreate()"
   ]
  },
  {
   "cell_type": "code",
   "execution_count": null,
   "id": "3a0d75cb",
   "metadata": {},
   "outputs": [],
   "source": [
    "games = spark.read.option('header','True').csv('../../data/practica/games.csv')\n",
    "competiciones= spark.read.option('header','True').csv('../../data/practica/competitions.csv')\n",
    "ligas = spark.read.option('header','True').csv('../../data/practica/leagues.csv')"
   ]
  },
  {
   "cell_type": "code",
   "execution_count": null,
   "id": "dafd2994",
   "metadata": {},
   "outputs": [],
   "source": [
    "ligas.printSchema()"
   ]
  },
  {
   "cell_type": "code",
   "execution_count": null,
   "id": "9ac8f818",
   "metadata": {},
   "outputs": [],
   "source": [
    "g = games.alias(\"g\")\n",
    "c = competiciones.alias(\"c\")\n",
    "l = ligas.alias(\"l\")\n",
    "\n",
    "join_1 = g.join(c, g.competition_code == c.competition_id)\n",
    "join_2 = l.join(join_1,l.league_id== join_1.domestic_league_code)\n",
    "join_2.printSchema()"
   ]
  },
  {
   "cell_type": "code",
   "execution_count": null,
   "id": "a0c754fb",
   "metadata": {},
   "outputs": [],
   "source": [
    "# GOLES POR LIGA\n",
    "# GROUPBY LIGA\n",
    "# COUNT COLES\n",
    "\n",
    "from pyspark.sql.functions import col,desc,sum\n",
    "join_goles = join_2.withColumn('goles_total', join_2.home_club_goals + join_2.away_club_goals)\n",
    "join_goles.printSchema()"
   ]
  },
  {
   "cell_type": "code",
   "execution_count": null,
   "id": "06c0ed37",
   "metadata": {},
   "outputs": [
    {
     "name": "stdout",
     "output_type": "stream",
     "text": [
      "+--------------+-------+\n",
      "|          name|  GOLES|\n",
      "+--------------+-------+\n",
      "|  premier-liga|12136.0|\n",
      "|premier-league|10909.0|\n",
      "|        laliga|10496.0|\n",
      "|       serie-a|10173.0|\n",
      "|    eredivisie| 9668.0|\n",
      "+--------------+-------+\n",
      "only showing top 5 rows\n",
      "\n"
     ]
    },
    {
     "ename": "",
     "evalue": "",
     "output_type": "error",
     "traceback": [
      "\u001b[1;31mThe Kernel crashed while executing code in the current cell or a previous cell. \n",
      "\u001b[1;31mPlease review the code in the cell(s) to identify a possible cause of the failure. \n",
      "\u001b[1;31mClick <a href='https://aka.ms/vscodeJupyterKernelCrash'>here</a> for more info. \n",
      "\u001b[1;31mView Jupyter <a href='command:jupyter.viewOutput'>log</a> for further details."
     ]
    }
   ],
   "source": [
    "join_goles.groupBy(col('l.name')).agg(\n",
    "    sum(col('goles_total')).alias('GOLES')).orderBy(desc('goles')).show(5)\n"
   ]
  },
  {
   "cell_type": "code",
   "execution_count": null,
   "id": "2272449b",
   "metadata": {},
   "outputs": [],
   "source": []
  }
 ],
 "metadata": {
  "kernelspec": {
   "display_name": "env310",
   "language": "python",
   "name": "python3"
  },
  "language_info": {
   "codemirror_mode": {
    "name": "ipython",
    "version": 3
   },
   "file_extension": ".py",
   "mimetype": "text/x-python",
   "name": "python",
   "nbconvert_exporter": "python",
   "pygments_lexer": "ipython3",
   "version": "3.10.9"
  }
 },
 "nbformat": 4,
 "nbformat_minor": 5
}
