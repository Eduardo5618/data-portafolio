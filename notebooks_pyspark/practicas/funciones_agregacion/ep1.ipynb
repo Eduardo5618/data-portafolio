{
 "cells": [
  {
   "cell_type": "code",
   "execution_count": null,
   "id": "31154367",
   "metadata": {},
   "outputs": [],
   "source": [
    "import findspark\n",
    "findspark.init()\n",
    "\n",
    "from pyspark.sql import SparkSession\n",
    "\n",
    "spark = SparkSession.builder.getOrCreate()"
   ]
  },
  {
   "cell_type": "code",
   "execution_count": null,
   "id": "cc062302",
   "metadata": {},
   "outputs": [],
   "source": [
    "df = spark.read.parquet('../../data/vuelos.parquet')"
   ]
  },
  {
   "cell_type": "code",
   "execution_count": null,
   "id": "61bf67bc",
   "metadata": {},
   "outputs": [],
   "source": [
    "df.show()"
   ]
  },
  {
   "cell_type": "code",
   "execution_count": null,
   "id": "e39a582d",
   "metadata": {},
   "outputs": [],
   "source": [
    "df.printSchema()"
   ]
  },
  {
   "cell_type": "code",
   "execution_count": null,
   "id": "c1350d6e",
   "metadata": {},
   "outputs": [],
   "source": [
    "df1 = spark.read.parquet('../../data/dataframe')"
   ]
  },
  {
   "cell_type": "code",
   "execution_count": null,
   "id": "e22ab28a",
   "metadata": {},
   "outputs": [],
   "source": [
    "df1.show()"
   ]
  },
  {
   "cell_type": "code",
   "execution_count": null,
   "id": "aac24bf1",
   "metadata": {},
   "outputs": [],
   "source": [
    "# COUNT\n",
    "# CUENTA\n",
    "\n",
    "from pyspark.sql.functions import count,countDistinct,approxCountDistinct"
   ]
  },
  {
   "cell_type": "code",
   "execution_count": null,
   "id": "c5b12e25",
   "metadata": {},
   "outputs": [],
   "source": [
    "df1.select(\n",
    "    count('nombre').alias('conteo_nombre'),\n",
    "    count('color').alias('conteo_color'),\n",
    "    count('*').alias('Conteo_general')\n",
    ").show()"
   ]
  },
  {
   "cell_type": "code",
   "execution_count": null,
   "id": "2aa29966",
   "metadata": {},
   "outputs": [],
   "source": [
    "#Countdistinct \n",
    "df1.select(\n",
    "    countDistinct('color').alias('color_sin_repetidos')\n",
    ").show()"
   ]
  },
  {
   "cell_type": "code",
   "execution_count": null,
   "id": "66f21264",
   "metadata": {},
   "outputs": [],
   "source": [
    "df.select(\n",
    "    countDistinct('AIRLINE'),\n",
    "    approxCountDistinct('AIRLINE')\n",
    ").show()"
   ]
  },
  {
   "cell_type": "markdown",
   "id": "5bf4b786",
   "metadata": {},
   "source": [
    "funcion MIN Y MAX"
   ]
  },
  {
   "cell_type": "code",
   "execution_count": null,
   "id": "e4f371e1",
   "metadata": {},
   "outputs": [],
   "source": [
    "from pyspark.sql.functions import min,max,col"
   ]
  },
  {
   "cell_type": "code",
   "execution_count": null,
   "id": "0658a6ec",
   "metadata": {},
   "outputs": [],
   "source": [
    "df.printSchema()"
   ]
  },
  {
   "cell_type": "code",
   "execution_count": 13,
   "id": "e523cc6a",
   "metadata": {},
   "outputs": [
    {
     "name": "stdout",
     "output_type": "stream",
     "text": [
      "+-------------+----------+\n",
      "|TIEMPO_MINIMO|TIEMPO_MAX|\n",
      "+-------------+----------+\n",
      "|            7|       690|\n",
      "+-------------+----------+\n",
      "\n"
     ]
    }
   ],
   "source": [
    "df.select(\n",
    "    min('AIR_TIME').alias('TIEMPO_MINIMO'),\n",
    "    max('AIR_TIME').alias('TIEMPO_MAX')\n",
    ").show()"
   ]
  },
  {
   "cell_type": "code",
   "execution_count": 19,
   "id": "203f5aff",
   "metadata": {},
   "outputs": [
    {
     "name": "stdout",
     "output_type": "stream",
     "text": [
      "+-------------+\n",
      "|SUM_DISTANCIA|\n",
      "+-------------+\n",
      "|   4785357409|\n",
      "+-------------+\n",
      "\n"
     ]
    }
   ],
   "source": [
    "from pyspark.sql.functions import sum,sumDistinct,avg,count\n",
    "df.select(\n",
    "    sum('DISTANCE').alias('SUM_DISTANCIA')\n",
    ").show()"
   ]
  },
  {
   "cell_type": "code",
   "execution_count": 16,
   "id": "e2ffd2dc",
   "metadata": {},
   "outputs": [
    {
     "name": "stderr",
     "output_type": "stream",
     "text": [
      "c:\\Users\\Eduardo\\Desktop\\Certificaciones\\Pyspark\\Pyspark-Practica\\env310\\lib\\site-packages\\pyspark\\sql\\functions.py:988: FutureWarning: Deprecated in 3.2, use sum_distinct instead.\n",
      "  warnings.warn(\"Deprecated in 3.2, use sum_distinct instead.\", FutureWarning)\n"
     ]
    },
    {
     "name": "stdout",
     "output_type": "stream",
     "text": [
      "+-------------+\n",
      "|SUM_DISTANCIA|\n",
      "+-------------+\n",
      "|      1442300|\n",
      "+-------------+\n",
      "\n"
     ]
    }
   ],
   "source": [
    "df.select(\n",
    "    sumDistinct('DISTANCE').alias('SUM_DISTANCIA')\n",
    ").show()"
   ]
  },
  {
   "cell_type": "code",
   "execution_count": 21,
   "id": "19136804",
   "metadata": {},
   "outputs": [
    {
     "name": "stdout",
     "output_type": "stream",
     "text": [
      "+------------------+------------------+\n",
      "|     PROMEDIO_AIRE|   PROMEDIO_MANUAL|\n",
      "+------------------+------------------+\n",
      "|113.51162809012519|113.51162809012519|\n",
      "+------------------+------------------+\n",
      "\n"
     ]
    }
   ],
   "source": [
    "df.select(\n",
    "    avg('AIR_TIME').alias('PROMEDIO_AIRE'),\n",
    "    (sum('AIR_TIME') / count('AIR_TIME')).alias('PROMEDIO_MANUAL')\n",
    ").show()"
   ]
  },
  {
   "cell_type": "code",
   "execution_count": 25,
   "id": "af3054d1",
   "metadata": {},
   "outputs": [],
   "source": [
    "from pyspark.sql.functions import desc"
   ]
  },
  {
   "cell_type": "code",
   "execution_count": 28,
   "id": "9b49e944",
   "metadata": {},
   "outputs": [
    {
     "name": "stdout",
     "output_type": "stream",
     "text": [
      "+--------------+------+\n",
      "|ORIGIN_AIRPORT| count|\n",
      "+--------------+------+\n",
      "|           ATL|346836|\n",
      "|           ORD|285884|\n",
      "|           DFW|239551|\n",
      "|           DEN|196055|\n",
      "|           LAX|194673|\n",
      "|           SFO|148008|\n",
      "|           PHX|146815|\n",
      "|           IAH|146622|\n",
      "|           LAS|133181|\n",
      "|           MSP|112117|\n",
      "|           MCO|110982|\n",
      "|           SEA|110899|\n",
      "|           DTW|108500|\n",
      "|           BOS|107847|\n",
      "|           EWR|101772|\n",
      "|           CLT|100324|\n",
      "|           LGA| 99605|\n",
      "|           SLC| 97210|\n",
      "|           JFK| 93811|\n",
      "|           BWI| 86079|\n",
      "+--------------+------+\n",
      "only showing top 20 rows\n",
      "\n"
     ]
    }
   ],
   "source": [
    "(df.groupBy('ORIGIN_AIRPORT').count().orderBy(desc('count'))).show()"
   ]
  },
  {
   "cell_type": "code",
   "execution_count": 29,
   "id": "0f664a3f",
   "metadata": {},
   "outputs": [
    {
     "name": "stdout",
     "output_type": "stream",
     "text": [
      "+--------------+-------------------+-----+\n",
      "|ORIGIN_AIRPORT|DESTINATION_AIRPORT|count|\n",
      "+--------------+-------------------+-----+\n",
      "|           SFO|                LAX|13744|\n",
      "|           LAX|                SFO|13457|\n",
      "|           JFK|                LAX|12016|\n",
      "|           LAX|                JFK|12015|\n",
      "|           LAS|                LAX| 9715|\n",
      "|           LGA|                ORD| 9639|\n",
      "|           LAX|                LAS| 9594|\n",
      "|           ORD|                LGA| 9575|\n",
      "|           SFO|                JFK| 8440|\n",
      "|           JFK|                SFO| 8437|\n",
      "|           OGG|                HNL| 8313|\n",
      "|           HNL|                OGG| 8282|\n",
      "|           LAX|                ORD| 8256|\n",
      "|           ATL|                LGA| 8234|\n",
      "|           LGA|                ATL| 8215|\n",
      "|           ATL|                MCO| 8202|\n",
      "|           MCO|                ATL| 8202|\n",
      "|           SFO|                LAS| 7995|\n",
      "|           ORD|                LAX| 7941|\n",
      "|           LAS|                SFO| 7870|\n",
      "+--------------+-------------------+-----+\n",
      "only showing top 20 rows\n",
      "\n"
     ]
    }
   ],
   "source": [
    "(df.groupBy('ORIGIN_AIRPORT','DESTINATION_AIRPORT').count().orderBy(desc('count'))).show()"
   ]
  },
  {
   "cell_type": "code",
   "execution_count": null,
   "id": "c4c1fe33",
   "metadata": {},
   "outputs": [],
   "source": []
  }
 ],
 "metadata": {
  "kernelspec": {
   "display_name": "env310",
   "language": "python",
   "name": "python3"
  },
  "language_info": {
   "codemirror_mode": {
    "name": "ipython",
    "version": 3
   },
   "file_extension": ".py",
   "mimetype": "text/x-python",
   "name": "python",
   "nbconvert_exporter": "python",
   "pygments_lexer": "ipython3",
   "version": "3.10.9"
  }
 },
 "nbformat": 4,
 "nbformat_minor": 5
}
