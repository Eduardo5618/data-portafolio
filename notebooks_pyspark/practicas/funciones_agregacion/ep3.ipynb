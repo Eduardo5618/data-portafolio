{
 "cells": [
  {
   "cell_type": "code",
   "execution_count": null,
   "id": "1336b539",
   "metadata": {},
   "outputs": [],
   "source": [
    "import findspark\n",
    "findspark.init()\n",
    "\n",
    "from pyspark.sql import SparkSession\n",
    "\n",
    "spark = SparkSession.builder.getOrCreate()"
   ]
  },
  {
   "cell_type": "code",
   "execution_count": null,
   "id": "f97b8f2d",
   "metadata": {},
   "outputs": [],
   "source": [
    "vuelos = spark.read.parquet('../../data/vuelos')"
   ]
  },
  {
   "cell_type": "code",
   "execution_count": null,
   "id": "b9dfc3cf",
   "metadata": {},
   "outputs": [],
   "source": [
    "vuelos.show()"
   ]
  },
  {
   "cell_type": "code",
   "execution_count": 4,
   "id": "b26b63aa",
   "metadata": {},
   "outputs": [],
   "source": [
    "from pyspark.sql.functions import count,min,max,desc,avg"
   ]
  },
  {
   "cell_type": "code",
   "execution_count": 6,
   "id": "fcd12ba4",
   "metadata": {},
   "outputs": [
    {
     "name": "stdout",
     "output_type": "stream",
     "text": [
      "+--------------+-----------+---+---+\n",
      "|ORIGIN_AIRPORT|TIEMPO_AIRE|min|max|\n",
      "+--------------+-----------+---+---+\n",
      "|           ATL|     343506| 15|614|\n",
      "|           ORD|     276554| 13|571|\n",
      "|           DFW|     232647| 11|534|\n",
      "|           DEN|     193402| 12|493|\n",
      "|           LAX|     192003| 14|409|\n",
      "|           PHX|     145552| 19|444|\n",
      "|           SFO|     145491|  8|389|\n",
      "|           IAH|     144019| 15|524|\n",
      "|           LAS|     131937| 25|429|\n",
      "|           MSP|     111055| 14|537|\n",
      "|           SEA|     110178| 17|412|\n",
      "|           MCO|     109532| 25|395|\n",
      "|           DTW|     106992| 15|341|\n",
      "|           BOS|     104804| 16|432|\n",
      "|           CLT|      99052| 17|379|\n",
      "|           EWR|      98341| 21|683|\n",
      "|           SLC|      96505| 18|419|\n",
      "|           LGA|      94834| 19|311|\n",
      "|           JFK|      91663| 29|690|\n",
      "|           BWI|      84329| 19|398|\n",
      "+--------------+-----------+---+---+\n",
      "only showing top 20 rows\n",
      "\n"
     ]
    }
   ],
   "source": [
    "vuelos.groupBy('ORIGIN_AIRPORT').agg(\n",
    "    count('AIR_TIME').alias('TIEMPO_AIRE'),\n",
    "    min('AIR_TIME').alias('min'),\n",
    "    max(\"AIR_TIME\").alias('max'),\n",
    ").orderBy(desc('TIEMPO_AIRE')).show()"
   ]
  },
  {
   "cell_type": "code",
   "execution_count": 9,
   "id": "e237ca65",
   "metadata": {},
   "outputs": [
    {
     "name": "stdout",
     "output_type": "stream",
     "text": [
      "+-----+---------------+-----------------+\n",
      "|MONTH|CONTEO_RETRASOS|        prom_dist|\n",
      "+-----+---------------+-----------------+\n",
      "|    7|         514384|841.4772794487611|\n",
      "|    8|         503956|834.8244276603413|\n",
      "|    6|         492847|835.6302716626612|\n",
      "|    3|         492138|816.0553268611494|\n",
      "|    5|         489641|823.3230588760807|\n",
      "|   10|         482878|816.4436127652134|\n",
      "|    4|         479251|817.0060476016745|\n",
      "|   12|         469717|837.8018926194103|\n",
      "|   11|         462367|820.2482434846529|\n",
      "|    9|         462153|815.8487523282274|\n",
      "|    1|         457013|803.2612794913696|\n",
      "|    2|         407663| 800.785449834689|\n",
      "+-----+---------------+-----------------+\n",
      "\n"
     ]
    }
   ],
   "source": [
    "vuelos.groupBy('MONTH').agg(\n",
    "    count('ARRIVAL_DELAY').alias('CONTEO_RETRASOS'),\n",
    "    avg('DISTANCE').alias('prom_dist'),\n",
    ").orderBy(desc('CONTEO_RETRASOS')).show()"
   ]
  },
  {
   "cell_type": "code",
   "execution_count": null,
   "id": "0859f16e",
   "metadata": {},
   "outputs": [],
   "source": [
    "# AGREGACION CON PIVOTE"
   ]
  },
  {
   "cell_type": "code",
   "execution_count": 11,
   "id": "7c1bf600",
   "metadata": {},
   "outputs": [],
   "source": [
    "df = spark.read.parquet('../../data/estudiantes.parquet')"
   ]
  },
  {
   "cell_type": "code",
   "execution_count": 12,
   "id": "6f75751b",
   "metadata": {},
   "outputs": [
    {
     "name": "stdout",
     "output_type": "stream",
     "text": [
      "+------+----+----+----------+\n",
      "|nombre|sexo|peso|graduacion|\n",
      "+------+----+----+----------+\n",
      "|  Jose|   M|  80|      2000|\n",
      "| Hilda|   F|  50|      2000|\n",
      "|  Juan|   M|  75|      2000|\n",
      "| Pedro|   M|  76|      2001|\n",
      "|Katia+|   F|  65|      2001|\n",
      "+------+----+----+----------+\n",
      "\n"
     ]
    }
   ],
   "source": [
    "df.show()"
   ]
  },
  {
   "cell_type": "code",
   "execution_count": null,
   "id": "5ff1af51",
   "metadata": {},
   "outputs": [],
   "source": [
    "#PROMEDIO DE PESO POR ANIO DE GRACIACION Y SEXO\n",
    "# PIVOTEA POR LOS VALORES UNICOS que estamos PONIENDO EN PIVOT"
   ]
  },
  {
   "cell_type": "code",
   "execution_count": null,
   "id": "fd9f86fe",
   "metadata": {},
   "outputs": [
    {
     "name": "stdout",
     "output_type": "stream",
     "text": [
      "+----------+----+----+\n",
      "|graduacion|   F|   M|\n",
      "+----------+----+----+\n",
      "|      2001|65.0|76.0|\n",
      "|      2000|50.0|77.5|\n",
      "+----------+----+----+\n",
      "\n"
     ]
    }
   ],
   "source": [
    "# COMO EN SEXO TENEMOS M y F, pera los valores de agregacion en el PIVOT\n",
    "\n",
    "df.groupBy('graduacion').pivot('sexo').agg(\n",
    "    avg('peso')\n",
    ").show()"
   ]
  },
  {
   "cell_type": "code",
   "execution_count": 15,
   "id": "2d419513",
   "metadata": {},
   "outputs": [
    {
     "name": "stdout",
     "output_type": "stream",
     "text": [
      "+----------+-----------+-----------+-----------+-----------+-----------+-----------+\n",
      "|graduacion|F_avg(peso)|F_min(peso)|F_max(peso)|M_avg(peso)|M_min(peso)|M_max(peso)|\n",
      "+----------+-----------+-----------+-----------+-----------+-----------+-----------+\n",
      "|      2001|       65.0|         65|         65|       76.0|         76|         76|\n",
      "|      2000|       50.0|         50|         50|       77.5|         75|         80|\n",
      "+----------+-----------+-----------+-----------+-----------+-----------+-----------+\n",
      "\n"
     ]
    }
   ],
   "source": [
    "df.groupBy('graduacion').pivot('sexo').agg(\n",
    "    avg('peso'),\n",
    "    min('peso'),\n",
    "    max('peso')\n",
    ").show()"
   ]
  }
 ],
 "metadata": {
  "kernelspec": {
   "display_name": "env310",
   "language": "python",
   "name": "python3"
  },
  "language_info": {
   "codemirror_mode": {
    "name": "ipython",
    "version": 3
   },
   "file_extension": ".py",
   "mimetype": "text/x-python",
   "name": "python",
   "nbconvert_exporter": "python",
   "pygments_lexer": "ipython3",
   "version": "3.10.9"
  }
 },
 "nbformat": 4,
 "nbformat_minor": 5
}
