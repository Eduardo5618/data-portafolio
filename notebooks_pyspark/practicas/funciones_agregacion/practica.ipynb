{
 "cells": [
  {
   "cell_type": "code",
   "execution_count": 1,
   "id": "9f683ba2",
   "metadata": {},
   "outputs": [],
   "source": [
    "import findspark\n",
    "findspark.init()\n",
    "\n",
    "from pyspark.sql import SparkSession\n",
    "\n",
    "spark =  SparkSession.builder.getOrCreate()"
   ]
  },
  {
   "cell_type": "code",
   "execution_count": 42,
   "id": "686b919e",
   "metadata": {},
   "outputs": [],
   "source": [
    "jugadores = spark.read.option('header','true').option('inferSchema','true').csv('../../data/practica/players.csv')\n",
    "\n",
    "games = spark.read.option('header','true').option('inferSchema','true').csv('../../data/practica/games.csv')\n",
    "\n",
    "apariciones = spark.read.option('header','true').option('inferSchema','true').csv('../../data/practica/appearances.csv')\n",
    "\n",
    "ligas = spark.read.option('header','true').option('inferSchema','true').csv('../../data/practica/leagues.csv')\n"
   ]
  },
  {
   "cell_type": "code",
   "execution_count": 44,
   "id": "805d53ff",
   "metadata": {},
   "outputs": [
    {
     "name": "stdout",
     "output_type": "stream",
     "text": [
      "root\n",
      " |-- game_id: integer (nullable = true)\n",
      " |-- competition_code: string (nullable = true)\n",
      " |-- season: integer (nullable = true)\n",
      " |-- round: string (nullable = true)\n",
      " |-- date: date (nullable = true)\n",
      " |-- home_club_id: integer (nullable = true)\n",
      " |-- away_club_id: integer (nullable = true)\n",
      " |-- home_club_goals: integer (nullable = true)\n",
      " |-- away_club_goals: integer (nullable = true)\n",
      " |-- home_club_position: integer (nullable = true)\n",
      " |-- away_club_position: integer (nullable = true)\n",
      " |-- stadium: string (nullable = true)\n",
      " |-- attendance: integer (nullable = true)\n",
      " |-- referee: string (nullable = true)\n",
      " |-- url: string (nullable = true)\n",
      "\n"
     ]
    }
   ],
   "source": [
    "games.printSchema()"
   ]
  },
  {
   "cell_type": "code",
   "execution_count": 18,
   "id": "2aef0ca5",
   "metadata": {},
   "outputs": [
    {
     "name": "stdout",
     "output_type": "stream",
     "text": [
      "+----------------+-----+\n",
      "|country_of_birth|count|\n",
      "+----------------+-----+\n",
      "|          France| 1694|\n",
      "|           Spain| 1388|\n",
      "|           Italy| 1312|\n",
      "+----------------+-----+\n",
      "\n"
     ]
    }
   ],
   "source": [
    "from pyspark.sql.functions import col,desc,count\n",
    "jugadores.groupBy('country_of_birth').count().orderBy(desc('count')).filter(col('country_of_birth').isNotNull()).limit(3).show()"
   ]
  },
  {
   "cell_type": "code",
   "execution_count": 37,
   "id": "c3b78588",
   "metadata": {},
   "outputs": [
    {
     "name": "stdout",
     "output_type": "stream",
     "text": [
      "root\n",
      " |-- player_id: integer (nullable = true)\n",
      " |-- current_club_id: integer (nullable = true)\n",
      " |-- name: string (nullable = true)\n",
      " |-- pretty_name: string (nullable = true)\n",
      " |-- country_of_birth: string (nullable = true)\n",
      " |-- country_of_citizenship: string (nullable = true)\n",
      " |-- date_of_birth: date (nullable = true)\n",
      " |-- position: string (nullable = true)\n",
      " |-- sub_position: string (nullable = true)\n",
      " |-- foot: string (nullable = true)\n",
      " |-- height_in_cm: integer (nullable = true)\n",
      " |-- market_value_in_gbp: double (nullable = true)\n",
      " |-- highest_market_value_in_gbp: double (nullable = true)\n",
      " |-- url: string (nullable = true)\n",
      " |-- player_id: integer (nullable = true)\n",
      " |-- game_id: integer (nullable = true)\n",
      " |-- appearance_id: string (nullable = true)\n",
      " |-- competition_id: string (nullable = true)\n",
      " |-- player_club_id: integer (nullable = true)\n",
      " |-- goals: integer (nullable = true)\n",
      " |-- assists: integer (nullable = true)\n",
      " |-- minutes_played: integer (nullable = true)\n",
      " |-- yellow_cards: integer (nullable = true)\n",
      " |-- red_cards: integer (nullable = true)\n",
      "\n"
     ]
    }
   ],
   "source": [
    "#Obtenga la lista de jugadores con tarjeta roja. La salida debe contener dos columnas, el nombre de pila del jugador y la cantidad de tarjetas rojas que tiene.\n",
    "#apariciones.printSchema()\n",
    "#jugadores.printSchema()\n",
    "\n",
    "j = jugadores.alias(\"j\")\n",
    "a = apariciones.alias(\"a\")\n",
    "\n",
    "tarjetas_rojas = j.join(a, col('j.player_id') == col('a.player_id'))\n",
    "\n",
    "tarjetas_rojas.printSchema()\n",
    "\n"
   ]
  },
  {
   "cell_type": "code",
   "execution_count": 41,
   "id": "0c6ebdde",
   "metadata": {},
   "outputs": [
    {
     "name": "stdout",
     "output_type": "stream",
     "text": [
      "+---------+--------------+\n",
      "|player_id|TARJETAS_ROJAS|\n",
      "+---------+--------------+\n",
      "|    32467|           377|\n",
      "|   125781|           375|\n",
      "|    28003|           366|\n",
      "|    65230|           365|\n",
      "|    74229|           350|\n",
      "|    38253|           350|\n",
      "|    58358|           347|\n",
      "|    18922|           344|\n",
      "|     8198|           343|\n",
      "|    59561|           341|\n",
      "+---------+--------------+\n",
      "\n"
     ]
    }
   ],
   "source": [
    "tarjetas_rojas.groupBy('a.player_id').agg(count('red_cards').alias('TARJETAS_ROJAS')).orderBy(desc('TARJETAS_ROJAS')).limit(10).show()"
   ]
  },
  {
   "cell_type": "code",
   "execution_count": 43,
   "id": "ca85cc6f",
   "metadata": {},
   "outputs": [
    {
     "name": "stdout",
     "output_type": "stream",
     "text": [
      "root\n",
      " |-- league_id: string (nullable = true)\n",
      " |-- name: string (nullable = true)\n",
      " |-- confederation: string (nullable = true)\n",
      "\n"
     ]
    }
   ],
   "source": [
    "# ¿Cuántos juegos se jugaron en la Premier League? La salida debe contener dos columnas, el nombre de la liga y la cantidad de juegos que se jugaron en ella.\n",
    "ligas.printSchema()"
   ]
  }
 ],
 "metadata": {
  "kernelspec": {
   "display_name": "env310",
   "language": "python",
   "name": "python3"
  },
  "language_info": {
   "codemirror_mode": {
    "name": "ipython",
    "version": 3
   },
   "file_extension": ".py",
   "mimetype": "text/x-python",
   "name": "python",
   "nbconvert_exporter": "python",
   "pygments_lexer": "ipython3",
   "version": "3.10.9"
  }
 },
 "nbformat": 4,
 "nbformat_minor": 5
}
