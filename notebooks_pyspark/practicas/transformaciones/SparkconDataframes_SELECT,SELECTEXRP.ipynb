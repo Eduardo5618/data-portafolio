{
 "cells": [
  {
   "cell_type": "code",
   "execution_count": 1,
   "id": "0f110549-4dac-40ac-84ee-e0a289dc810d",
   "metadata": {},
   "outputs": [],
   "source": [
    "import findspark\n",
    "findspark.init()\n",
    "\n",
    "from pyspark.sql import SparkSession\n",
    "\n",
    "spark = SparkSession.builder.appName('prueba').getOrCreate()\n",
    "\n",
    "sc = spark.sparkContext"
   ]
  },
  {
   "cell_type": "code",
   "execution_count": 2,
   "id": "85f2f1cc",
   "metadata": {},
   "outputs": [],
   "source": [
    "# TRABAJO CON COLUMNAS\n",
    "df = spark.read.parquet('../data/dataPARQUET.parquet')"
   ]
  },
  {
   "cell_type": "code",
   "execution_count": null,
   "id": "3b900331",
   "metadata": {},
   "outputs": [],
   "source": [
    "df.printSchema()"
   ]
  },
  {
   "cell_type": "code",
   "execution_count": null,
   "id": "cc572e4a",
   "metadata": {},
   "outputs": [],
   "source": [
    "# OTRA ALTERNATIVA CON SELECT\n",
    "df.select('title').show()"
   ]
  },
  {
   "cell_type": "code",
   "execution_count": 5,
   "id": "e2d5e05d",
   "metadata": {},
   "outputs": [],
   "source": [
    "# SEGUNDA ALTERNATIVA con las columnas\n",
    "from pyspark.sql.functions import col"
   ]
  },
  {
   "cell_type": "code",
   "execution_count": 6,
   "id": "da6493b6",
   "metadata": {},
   "outputs": [
    {
     "name": "stdout",
     "output_type": "stream",
     "text": [
      "+--------------------+\n",
      "|               title|\n",
      "+--------------------+\n",
      "|WE WANT TO TALK A...|\n",
      "|The Trump Preside...|\n",
      "|Racist Superman |...|\n",
      "|Nickelback Lyrics...|\n",
      "|I Dare You: GOING...|\n",
      "|2 Weeks with iPho...|\n",
      "|Roy Moore & Jeff ...|\n",
      "|5 Ice Cream Gadge...|\n",
      "|The Greatest Show...|\n",
      "|Why the rise of t...|\n",
      "|Dion Lewis' 103-Y...|\n",
      "|(SPOILERS) 'Shiva...|\n",
      "|Marshmello - Bloc...|\n",
      "|Which Countries A...|\n",
      "|SHOPPING FOR NEW ...|\n",
      "|    The New SpotMini|\n",
      "|One Change That W...|\n",
      "|How does your bod...|\n",
      "|HomeMade Electric...|\n",
      "|Founding An Inbre...|\n",
      "+--------------------+\n",
      "only showing top 20 rows\n",
      "\n"
     ]
    }
   ],
   "source": [
    "df.select(col('title')).show()"
   ]
  },
  {
   "cell_type": "code",
   "execution_count": 7,
   "id": "97f0395c",
   "metadata": {},
   "outputs": [
    {
     "name": "stdout",
     "output_type": "stream",
     "text": [
      "+-----------+\n",
      "|   video_id|\n",
      "+-----------+\n",
      "|2kyS6SvSYSE|\n",
      "|1ZAPwfrtAFY|\n",
      "|5qpjK5DgCt4|\n",
      "|puqaWrEC7tY|\n",
      "|d380meD0W0M|\n",
      "|gHZ1Qz0KiKM|\n",
      "|39idVpFF7NQ|\n",
      "|nc99ccSXST0|\n",
      "|jr9QtXwC9vc|\n",
      "|TUmyygCMMGA|\n",
      "|9wRQljFNDW8|\n",
      "|VifQlJit6A0|\n",
      "|5E4ZBSInqUU|\n",
      "|GgVmn66oK_A|\n",
      "|TaTleo4cOs8|\n",
      "|kgaO45SyaO4|\n",
      "|ZAQs-ctOqXQ|\n",
      "|YVfyYrEmzgM|\n",
      "|eNSN6qet1kE|\n",
      "|B5HORANmzHw|\n",
      "+-----------+\n",
      "only showing top 20 rows\n",
      "\n"
     ]
    }
   ],
   "source": [
    "#####################################################\n",
    "# SELECT\n",
    "\n",
    "df.select(col('video_id')).show()"
   ]
  },
  {
   "cell_type": "code",
   "execution_count": 8,
   "id": "7ecf8626",
   "metadata": {},
   "outputs": [
    {
     "name": "stdout",
     "output_type": "stream",
     "text": [
      "+-----------+-------------+\n",
      "|   video_id|trending_date|\n",
      "+-----------+-------------+\n",
      "|2kyS6SvSYSE|     17.14.11|\n",
      "|1ZAPwfrtAFY|     17.14.11|\n",
      "|5qpjK5DgCt4|     17.14.11|\n",
      "|puqaWrEC7tY|     17.14.11|\n",
      "|d380meD0W0M|     17.14.11|\n",
      "|gHZ1Qz0KiKM|     17.14.11|\n",
      "|39idVpFF7NQ|     17.14.11|\n",
      "|nc99ccSXST0|     17.14.11|\n",
      "|jr9QtXwC9vc|     17.14.11|\n",
      "|TUmyygCMMGA|     17.14.11|\n",
      "|9wRQljFNDW8|     17.14.11|\n",
      "|VifQlJit6A0|     17.14.11|\n",
      "|5E4ZBSInqUU|     17.14.11|\n",
      "|GgVmn66oK_A|     17.14.11|\n",
      "|TaTleo4cOs8|     17.14.11|\n",
      "|kgaO45SyaO4|     17.14.11|\n",
      "|ZAQs-ctOqXQ|     17.14.11|\n",
      "|YVfyYrEmzgM|     17.14.11|\n",
      "|eNSN6qet1kE|     17.14.11|\n",
      "|B5HORANmzHw|     17.14.11|\n",
      "+-----------+-------------+\n",
      "only showing top 20 rows\n",
      "\n"
     ]
    }
   ],
   "source": [
    "df.select('video_id','trending_date').show()"
   ]
  },
  {
   "cell_type": "code",
   "execution_count": 9,
   "id": "e9849600",
   "metadata": {},
   "outputs": [
    {
     "ename": "TypeError",
     "evalue": "unsupported operand type(s) for -: 'str' and 'str'",
     "output_type": "error",
     "traceback": [
      "\u001b[31m---------------------------------------------------------------------------\u001b[39m",
      "\u001b[31mTypeError\u001b[39m                                 Traceback (most recent call last)",
      "\u001b[36mCell\u001b[39m\u001b[36m \u001b[39m\u001b[32mIn[9]\u001b[39m\u001b[32m, line 6\u001b[39m\n\u001b[32m      1\u001b[39m \u001b[38;5;66;03m# ESTA ULTIMA NOMENCLATURA TIENE DESVENTAJAS\u001b[39;00m\n\u001b[32m      2\u001b[39m \u001b[38;5;66;03m# NON SOPORTA ESTA NOMENCLATURA\u001b[39;00m\n\u001b[32m      3\u001b[39m df.select(\n\u001b[32m      4\u001b[39m     \u001b[33m'\u001b[39m\u001b[33mlikes\u001b[39m\u001b[33m'\u001b[39m,\n\u001b[32m      5\u001b[39m     \u001b[33m'\u001b[39m\u001b[33mdislikes\u001b[39m\u001b[33m'\u001b[39m,\n\u001b[32m----> \u001b[39m\u001b[32m6\u001b[39m     (\u001b[33;43m'\u001b[39;49m\u001b[33;43mlikes\u001b[39;49m\u001b[33;43m'\u001b[39;49m\u001b[43m \u001b[49m\u001b[43m-\u001b[49m\u001b[43m \u001b[49m\u001b[33;43m'\u001b[39;49m\u001b[33;43mdislikes\u001b[39;49m\u001b[33;43m'\u001b[39;49m)\n\u001b[32m      7\u001b[39m ).show()\n",
      "\u001b[31mTypeError\u001b[39m: unsupported operand type(s) for -: 'str' and 'str'"
     ]
    }
   ],
   "source": [
    "# ESTA ULTIMA NOMENCLATURA TIENE DESVENTAJAS\n",
    "# NON SOPORTA ESTA NOMENCLATURA\n",
    "df.select(\n",
    "    'likes',\n",
    "    'dislikes',\n",
    "    ('likes' - 'dislikes')\n",
    ").show()"
   ]
  },
  {
   "cell_type": "code",
   "execution_count": null,
   "id": "83a437ec",
   "metadata": {},
   "outputs": [
    {
     "name": "stdout",
     "output_type": "stream",
     "text": [
      "+------+--------+----------+\n",
      "| likes|dislikes|aceptacion|\n",
      "+------+--------+----------+\n",
      "| 57527|    2966|   54561.0|\n",
      "| 97185|    6146|   91039.0|\n",
      "|146033|    5339|  140694.0|\n",
      "| 10172|     666|    9506.0|\n",
      "|132235|    1989|  130246.0|\n",
      "|  9763|     511|    9252.0|\n",
      "| 15993|    2445|   13548.0|\n",
      "| 23663|     778|   22885.0|\n",
      "|  3543|     119|    3424.0|\n",
      "| 12654|    1363|   11291.0|\n",
      "|   655|      25|     630.0|\n",
      "|  1576|     303|    1273.0|\n",
      "|114188|    1333|  112855.0|\n",
      "|  7848|    1171|    6677.0|\n",
      "|  7473|     246|    7227.0|\n",
      "|  9419|      52|    9367.0|\n",
      "|  8011|     638|    7373.0|\n",
      "|  5398|      53|    5345.0|\n",
      "| 11963|      36|   11927.0|\n",
      "|  8421|     191|    8230.0|\n",
      "+------+--------+----------+\n",
      "only showing top 20 rows\n",
      "\n"
     ]
    }
   ],
   "source": [
    "# LA VETNAJA DE USAR COLS\n",
    "df.select(\n",
    "    col('likes'),\n",
    "    col('dislikes'),\n",
    "    (col('likes') - col('dislikes')).alias('aceptacion')\n",
    ").show()"
   ]
  },
  {
   "cell_type": "code",
   "execution_count": null,
   "id": "59ab5d7f",
   "metadata": {},
   "outputs": [
    {
     "name": "stdout",
     "output_type": "stream",
     "text": [
      "+------+--------+----------+\n",
      "| likes|dislikes|aceptacion|\n",
      "+------+--------+----------+\n",
      "| 57527|    2966|   54561.0|\n",
      "| 97185|    6146|   91039.0|\n",
      "|146033|    5339|  140694.0|\n",
      "| 10172|     666|    9506.0|\n",
      "|132235|    1989|  130246.0|\n",
      "|  9763|     511|    9252.0|\n",
      "| 15993|    2445|   13548.0|\n",
      "| 23663|     778|   22885.0|\n",
      "|  3543|     119|    3424.0|\n",
      "| 12654|    1363|   11291.0|\n",
      "|   655|      25|     630.0|\n",
      "|  1576|     303|    1273.0|\n",
      "|114188|    1333|  112855.0|\n",
      "|  7848|    1171|    6677.0|\n",
      "|  7473|     246|    7227.0|\n",
      "|  9419|      52|    9367.0|\n",
      "|  8011|     638|    7373.0|\n",
      "|  5398|      53|    5345.0|\n",
      "| 11963|      36|   11927.0|\n",
      "|  8421|     191|    8230.0|\n",
      "+------+--------+----------+\n",
      "only showing top 20 rows\n",
      "\n"
     ]
    }
   ],
   "source": [
    "# selectEx\n",
    "df.selectExpr('likes','dislikes','(likes - dislikes) as aceptacion').show()"
   ]
  },
  {
   "cell_type": "code",
   "execution_count": 12,
   "id": "13e0f788",
   "metadata": {},
   "outputs": [
    {
     "name": "stdout",
     "output_type": "stream",
     "text": [
      "+--------------------+\n",
      "|              videos|\n",
      "+--------------------+\n",
      "| Kendall Jenner a...|\n",
      "+--------------------+\n",
      "\n"
     ]
    }
   ],
   "source": [
    "df.selectExpr('min(likes) as videos').show()"
   ]
  },
  {
   "cell_type": "code",
   "execution_count": null,
   "id": "443ff8f0",
   "metadata": {},
   "outputs": [],
   "source": []
  }
 ],
 "metadata": {
  "kernelspec": {
   "display_name": "env",
   "language": "python",
   "name": "python3"
  },
  "language_info": {
   "codemirror_mode": {
    "name": "ipython",
    "version": 3
   },
   "file_extension": ".py",
   "mimetype": "text/x-python",
   "name": "python",
   "nbconvert_exporter": "python",
   "pygments_lexer": "ipython3",
   "version": "3.12.6"
  }
 },
 "nbformat": 4,
 "nbformat_minor": 5
}
