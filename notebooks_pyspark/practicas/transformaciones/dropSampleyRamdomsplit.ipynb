{
 "cells": [
  {
   "cell_type": "code",
   "execution_count": 3,
   "id": "69d594ad",
   "metadata": {},
   "outputs": [],
   "source": [
    "import findspark\n",
    "findspark.init()\n",
    "\n",
    "from pyspark.sql import SparkSession\n",
    "\n",
    "spark = SparkSession.builder.appName('prueba').getOrCreate()\n",
    "\n",
    "df = spark.read.parquet('../../data/datos.parquet')"
   ]
  },
  {
   "cell_type": "code",
   "execution_count": 4,
   "id": "fcca3e1d",
   "metadata": {},
   "outputs": [
    {
     "name": "stdout",
     "output_type": "stream",
     "text": [
      "root\n",
      " |-- video_id: string (nullable = true)\n",
      " |-- trending_date: string (nullable = true)\n",
      " |-- title: string (nullable = true)\n",
      " |-- channel_title: string (nullable = true)\n",
      " |-- category_id: string (nullable = true)\n",
      " |-- publish_time: timestamp (nullable = true)\n",
      " |-- tags: string (nullable = true)\n",
      " |-- views: integer (nullable = true)\n",
      " |-- likes: integer (nullable = true)\n",
      " |-- dislikes: integer (nullable = true)\n",
      " |-- comment_count: integer (nullable = true)\n",
      " |-- thumbnail_link: string (nullable = true)\n",
      " |-- comments_disabled: string (nullable = true)\n",
      " |-- ratings_disabled: string (nullable = true)\n",
      " |-- video_error_or_removed: string (nullable = true)\n",
      " |-- description: string (nullable = true)\n",
      "\n"
     ]
    }
   ],
   "source": [
    "# TRANSFORMACION DROP\n",
    "\n",
    "# Elimina las columnas o BORRA lo que nostros pongamos\n",
    "\n",
    "df.printSchema()"
   ]
  },
  {
   "cell_type": "code",
   "execution_count": 5,
   "id": "32b40ec2",
   "metadata": {},
   "outputs": [],
   "source": [
    "df_util = df.drop('comments_disabled')"
   ]
  },
  {
   "cell_type": "code",
   "execution_count": 6,
   "id": "cd9ac64a",
   "metadata": {},
   "outputs": [
    {
     "name": "stdout",
     "output_type": "stream",
     "text": [
      "root\n",
      " |-- video_id: string (nullable = true)\n",
      " |-- trending_date: string (nullable = true)\n",
      " |-- title: string (nullable = true)\n",
      " |-- channel_title: string (nullable = true)\n",
      " |-- category_id: string (nullable = true)\n",
      " |-- publish_time: timestamp (nullable = true)\n",
      " |-- tags: string (nullable = true)\n",
      " |-- views: integer (nullable = true)\n",
      " |-- likes: integer (nullable = true)\n",
      " |-- dislikes: integer (nullable = true)\n",
      " |-- comment_count: integer (nullable = true)\n",
      " |-- thumbnail_link: string (nullable = true)\n",
      " |-- ratings_disabled: string (nullable = true)\n",
      " |-- video_error_or_removed: string (nullable = true)\n",
      " |-- description: string (nullable = true)\n",
      "\n"
     ]
    }
   ],
   "source": [
    "df_util.printSchema()"
   ]
  },
  {
   "cell_type": "code",
   "execution_count": 8,
   "id": "b6fc9db7",
   "metadata": {},
   "outputs": [
    {
     "name": "stdout",
     "output_type": "stream",
     "text": [
      "root\n",
      " |-- video_id: string (nullable = true)\n",
      " |-- trending_date: string (nullable = true)\n",
      " |-- title: string (nullable = true)\n",
      " |-- channel_title: string (nullable = true)\n",
      " |-- category_id: string (nullable = true)\n",
      " |-- publish_time: timestamp (nullable = true)\n",
      " |-- tags: string (nullable = true)\n",
      " |-- views: integer (nullable = true)\n",
      " |-- likes: integer (nullable = true)\n",
      " |-- dislikes: integer (nullable = true)\n",
      " |-- comment_count: integer (nullable = true)\n",
      " |-- video_error_or_removed: string (nullable = true)\n",
      " |-- description: string (nullable = true)\n",
      "\n"
     ]
    }
   ],
   "source": [
    "df_util = df.drop('comments_disabled','ratings_disabled','thumbnail_link')\n",
    "df_util.printSchema()"
   ]
  },
  {
   "cell_type": "code",
   "execution_count": 9,
   "id": "11c9d774",
   "metadata": {},
   "outputs": [],
   "source": [
    "# DE IGUAL FORMA NO NOS ARROJA SI EL SCHEMA NO EXISTE"
   ]
  },
  {
   "cell_type": "code",
   "execution_count": 10,
   "id": "07f778d1",
   "metadata": {},
   "outputs": [],
   "source": [
    "#SAMPLE\n",
    "\n",
    "df_muestra = df.sample(0.8)\n",
    "\n",
    "num_filas = df.count()\n",
    "\n",
    "num_filas_muestra = df_muestra.count()"
   ]
  },
  {
   "cell_type": "code",
   "execution_count": 11,
   "id": "39a1b14f",
   "metadata": {},
   "outputs": [
    {
     "name": "stdout",
     "output_type": "stream",
     "text": [
      "numero de filas original 48137\n",
      "numero de filas original pero con formula 38509.6\n",
      "numero de filas de la muestra 38610\n"
     ]
    }
   ],
   "source": [
    "print('numero de filas original {}'.format(num_filas))\n",
    "print('numero de filas original pero con formula {}'.format(num_filas - (num_filas*0.2)))\n",
    "print('numero de filas de la muestra {}'.format(num_filas_muestra))"
   ]
  },
  {
   "cell_type": "code",
   "execution_count": 13,
   "id": "dfe91735",
   "metadata": {},
   "outputs": [],
   "source": [
    "df.createOrReplaceTempView('temporal')\n",
    "\n",
    "resultado = spark.sql(\"SELECT video_id from temporal\")"
   ]
  },
  {
   "cell_type": "code",
   "execution_count": 14,
   "id": "4910c2c3",
   "metadata": {},
   "outputs": [
    {
     "name": "stdout",
     "output_type": "stream",
     "text": [
      "+-----------+\n",
      "|   video_id|\n",
      "+-----------+\n",
      "|2kyS6SvSYSE|\n",
      "|1ZAPwfrtAFY|\n",
      "|5qpjK5DgCt4|\n",
      "|puqaWrEC7tY|\n",
      "|d380meD0W0M|\n",
      "|gHZ1Qz0KiKM|\n",
      "|39idVpFF7NQ|\n",
      "|nc99ccSXST0|\n",
      "|jr9QtXwC9vc|\n",
      "|TUmyygCMMGA|\n",
      "|9wRQljFNDW8|\n",
      "|VifQlJit6A0|\n",
      "|5E4ZBSInqUU|\n",
      "|GgVmn66oK_A|\n",
      "|TaTleo4cOs8|\n",
      "|kgaO45SyaO4|\n",
      "|ZAQs-ctOqXQ|\n",
      "|YVfyYrEmzgM|\n",
      "|eNSN6qet1kE|\n",
      "|B5HORANmzHw|\n",
      "+-----------+\n",
      "only showing top 20 rows\n",
      "\n"
     ]
    }
   ],
   "source": [
    "resultado.show()"
   ]
  },
  {
   "cell_type": "code",
   "execution_count": null,
   "id": "9b01fc22",
   "metadata": {},
   "outputs": [],
   "source": []
  }
 ],
 "metadata": {
  "kernelspec": {
   "display_name": "env310",
   "language": "python",
   "name": "python3"
  },
  "language_info": {
   "codemirror_mode": {
    "name": "ipython",
    "version": 3
   },
   "file_extension": ".py",
   "mimetype": "text/x-python",
   "name": "python",
   "nbconvert_exporter": "python",
   "pygments_lexer": "ipython3",
   "version": "3.10.9"
  }
 },
 "nbformat": 4,
 "nbformat_minor": 5
}
