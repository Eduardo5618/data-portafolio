{
 "cells": [
  {
   "cell_type": "code",
   "execution_count": 1,
   "id": "c721f513",
   "metadata": {},
   "outputs": [],
   "source": [
    "import findspark\n",
    "findspark.init()\n",
    "\n",
    "from pyspark.sql import SparkSession\n",
    "\n",
    "spark = SparkSession.builder.getOrCreate()\n"
   ]
  },
  {
   "cell_type": "code",
   "execution_count": 2,
   "id": "34144c91",
   "metadata": {},
   "outputs": [],
   "source": [
    "df = spark.read.parquet('../data/dataPARQUET.parquet')"
   ]
  },
  {
   "cell_type": "code",
   "execution_count": 3,
   "id": "41dda463",
   "metadata": {},
   "outputs": [],
   "source": [
    "df_sin_duplicados = df.distinct()"
   ]
  },
  {
   "cell_type": "code",
   "execution_count": 4,
   "id": "4aa426cb",
   "metadata": {},
   "outputs": [
    {
     "name": "stdout",
     "output_type": "stream",
     "text": [
      "+-----------+-------------+--------------------+--------------------+-----------+--------------------+--------------------+-------+------+--------+-------------+--------------------+-----------------+----------------+----------------------+--------------------+\n",
      "|   video_id|trending_date|               title|       channel_title|category_id|        publish_time|                tags|  views| likes|dislikes|comment_count|      thumbnail_link|comments_disabled|ratings_disabled|video_error_or_removed|         description|\n",
      "+-----------+-------------+--------------------+--------------------+-----------+--------------------+--------------------+-------+------+--------+-------------+--------------------+-----------------+----------------+----------------------+--------------------+\n",
      "|c-3JxzN2u34|     17.15.11|Lin-Manuel Mirand...|  CBS Sunday Morning|         25|2017-11-12T15:05:...|\"CBS Sunday Morni...|   9892|   250|       7|           19|https://i.ytimg.c...|            False|           False|                 False|Correspondent Dav...|\n",
      "|fGTfbMioezc|     17.16.11|   Marvel's Inhumans|         LOFTON SHAW|          1|2017-10-25T23:47:...|              [none]|   5119|    20|       1|            3|https://i.ytimg.c...|            False|           False|                 False|Young Black Bolt ...|\n",
      "|Gnxv9OH-giQ|     17.18.11|Ranz and Niana Go...|           Ranz Kyle|         22|2017-11-16T13:12:...|\"ranz\"|\"ranz kyle...| 331642| 21739|     190|         1628|https://i.ytimg.c...|            False|           False|                 False|So we were invite...|\n",
      "|8-u5nd2GqNE|     17.19.11|The Secret Protoc...| Half as Interesting|         27|2017-11-16T15:30:...|\"the\"|\"secret\"|\"p...| 855475| 23255|     706|         4011|https://i.ytimg.c...|            False|           False|                 False|Raise money for c...|\n",
      "|5530I_pYjbo|     17.19.11|How I Trained My ...|         JunsKitchen|         26|2017-11-14T12:06:...|\"how\"|\"trained\"|\"...|2415668|162209|     971|         8678|https://i.ytimg.c...|            False|           False|                 False|►EQUIPMENT I use ...|\n",
      "|w2Es7-c9GAk|     17.21.11|Selena Gomez Deli...|Entertainment Ton...|         10|2017-11-20T04:59:...|\"hairstyle\"|\"ente...|1257634|  6971|    1342|         1230|https://i.ytimg.c...|            False|           False|                 False|More from Enterta...|\n",
      "|Y1n8F4uClUU|     17.21.11|FIA GT World Cup ...|         CrashRacing|          2|2017-11-18T04:57:...|\"GT Series\"|\"Qual...|2823869| 14873|     902|         2625|https://i.ytimg.c...|            False|           False|                 False|  Meanwhile in Macau|\n",
      "|p3MjsrMNCbU|     17.21.11|The Secrets Behin...|          Polyphonic|         10|2017-11-16T20:30:...|\"polyphonic\"|\"mus...| 138563|  7125|      83|          725|https://i.ytimg.c...|            False|           False|                 False|Music by Pracs: h...|\n",
      "|7Bgj9c48zHU|     17.23.11|How to do a beaut...|            Sailor J|         24|2017-11-21T17:44:...|\"Tarte\"|\"Makeup\"|...|  60404|  8400|      88|         2888|https://i.ytimg.c...|            False|           False|                 False|Song: Samurai Cha...|\n",
      "|41kp6qN1Crg|     17.23.11|NBA Bloopers - Th...|                 NBA|         17|2017-11-20T23:39:...|\"nba\"|\"basketball...| 139847|  2225|      25|           65|https://i.ytimg.c...|            False|           False|                 False|There were a ridi...|\n",
      "|VNqrILFD5h0|     17.23.11|Macklemore’s Nake...|Watch What Happen...|         24|2017-11-17T12:59:...|\"What What Happen...| 141782|   645|     216|          170|https://i.ytimg.c...|            False|           False|                 False|Rapper Macklemore...|\n",
      "|fQvGSkTYJSE|     17.23.11|Elon Musk Gives F...|        Tech Insider|          2|2017-11-17T14:36:...|\"Tech Insider\"|\"T...| 836305|  9164|     664|         3133|https://i.ytimg.c...|            False|           False|                 False|Tesla CEO Elon Mu...|\n",
      "|OPaybxgucww|     17.24.11|The Walking Dead:...|     Hannah Stocking|         23|2017-11-21T18:00:...|\"the walking dead...| 801356| 35347|     786|         1119|https://i.ytimg.c...|            False|           False|                 False|Download the free...|\n",
      "|uUvgMnzplt4|     17.25.11|When You Meet You...|      IISuperwomanII|         23|2017-11-23T21:00:...|\"iisuperwomanii\"|...|1273356|107086|     847|        10407|https://i.ytimg.c...|            False|           False|                 False|Shout outs to all...|\n",
      "|iatq3Rn4vsg|     17.25.11|Holding a Baby fo...|                 Cut|         24|2017-11-20T13:00:...|\"baby\"|\"first\"|\"f...| 309796|  8835|     173|         1071|https://i.ytimg.c...|            False|           False|                 False|Stay updated by s...|\n",
      "|3IaL0li-LWU|     17.27.11|Top 10 Black Frid...|        The Deal Guy|         28|2017-11-22T15:04:...|\"deal guy\"|\"amazo...| 219585|  4512|     903|         4952|https://i.ytimg.c...|            False|           False|                 False|The biggest thing...|\n",
      "|SCR1KeLDZxw|     17.28.11|$1000 PR Unboxing...|          Refinery29|         26|2017-11-27T16:00:...|\"refinery29\"|\"ref...|  17372|   504|      23|           81|https://i.ytimg.c...|            False|           False|                 False|This week on Beau...|\n",
      "|-xt_j2aIAkg|     17.29.11|    Predator Is Back|     adidas Football|         17|2017-11-22T09:10:...|\"football\"|\"socce...|2678479|  9250|    1755|          921|https://i.ytimg.c...|            False|           False|                 False|Savage Control pr...|\n",
      "|sw7RElt-SvE|     17.01.12|PADDINGTON 2 - Fu...|Warner Bros. Pict...|         24|2017-11-28T17:00:...|\"Paddington\"|\"Pad...|  82526|  1871|      78|          175|https://i.ytimg.c...|            False|           False|                 False|In Theaters Janua...|\n",
      "|w_b63zETbSs|     17.01.12|Kris Jenner would...|       Steve TV Show|         24|2017-11-28T06:03:...|\"STEVE\"|\"steve\"|\"...|  48385|   432|      96|           75|https://i.ytimg.c...|            False|           False|                 False|Kris Jenner tells...|\n",
      "+-----------+-------------+--------------------+--------------------+-----------+--------------------+--------------------+-------+------+--------+-------------+--------------------+-----------------+----------------+----------------------+--------------------+\n",
      "only showing top 20 rows\n",
      "\n"
     ]
    }
   ],
   "source": [
    "df_sin_duplicados.show()"
   ]
  },
  {
   "cell_type": "code",
   "execution_count": 5,
   "id": "7b4507ed",
   "metadata": {},
   "outputs": [
    {
     "name": "stdout",
     "output_type": "stream",
     "text": [
      "CONTEO DEL DF ORIGINAL 48137\n",
      "CONTEO DEL DF SIN DUPLICADOS 41497\n"
     ]
    }
   ],
   "source": [
    "print('CONTEO DEL DF ORIGINAL {}'.format(df.count()))\n",
    "print('CONTEO DEL DF SIN DUPLICADOS {}'.format(df_sin_duplicados.count()))"
   ]
  },
  {
   "cell_type": "code",
   "execution_count": 7,
   "id": "db77bea6",
   "metadata": {},
   "outputs": [],
   "source": [
    "from pyspark.sql.types import StructType, StructField, IntegerType, StringType"
   ]
  },
  {
   "cell_type": "code",
   "execution_count": 8,
   "id": "0b0a385d",
   "metadata": {},
   "outputs": [],
   "source": [
    "# USAMOS LA FUNCION DROPDUPLICATES\n",
    "schema = StructType([\n",
    "    StructField(\"id\", IntegerType(), True),\n",
    "    StructField(\"color\", StringType(), True),\n",
    "    StructField(\"importe\", IntegerType(), True)\n",
    "])\n",
    "\n",
    "\n",
    "data_frame = spark.createDataFrame(\n",
    "    [\n",
    "        (1, \"azul\", 567), \n",
    "        (2, \"rojo\", 487), \n",
    "        (1, \"azul\", 345), \n",
    "        (2, 'verde',783)\n",
    "    ], schema = schema)"
   ]
  },
  {
   "cell_type": "code",
   "execution_count": 42,
   "id": "dc8c0e62",
   "metadata": {},
   "outputs": [
    {
     "name": "stdout",
     "output_type": "stream",
     "text": [
      "root\n",
      " |-- id: integer (nullable = true)\n",
      " |-- color: string (nullable = true)\n",
      " |-- importe: integer (nullable = true)\n",
      "\n"
     ]
    }
   ],
   "source": [
    "data_frame.printSchema()"
   ]
  },
  {
   "cell_type": "code",
   "execution_count": 10,
   "id": "1cdc540d",
   "metadata": {},
   "outputs": [
    {
     "name": "stdout",
     "output_type": "stream",
     "text": [
      "+---+-----+-------+\n",
      "| id|color|importe|\n",
      "+---+-----+-------+\n",
      "|  1| azul|    567|\n",
      "|  2| rojo|    487|\n",
      "|  1| azul|    345|\n",
      "|  2|verde|    783|\n",
      "+---+-----+-------+\n",
      "\n"
     ]
    }
   ],
   "source": [
    "data_frame.show()"
   ]
  },
  {
   "cell_type": "code",
   "execution_count": 11,
   "id": "e0f3ba4e",
   "metadata": {},
   "outputs": [
    {
     "name": "stdout",
     "output_type": "stream",
     "text": [
      "+---+-----+-------+\n",
      "| id|color|importe|\n",
      "+---+-----+-------+\n",
      "|  1| azul|    567|\n",
      "|  2| rojo|    487|\n",
      "|  2|verde|    783|\n",
      "+---+-----+-------+\n",
      "\n"
     ]
    }
   ],
   "source": [
    "data_frame.dropDuplicates(['id','color']).show()"
   ]
  },
  {
   "cell_type": "code",
   "execution_count": null,
   "id": "042c2197",
   "metadata": {},
   "outputs": [],
   "source": []
  }
 ],
 "metadata": {
  "kernelspec": {
   "display_name": "env310",
   "language": "python",
   "name": "python3"
  },
  "language_info": {
   "codemirror_mode": {
    "name": "ipython",
    "version": 3
   },
   "file_extension": ".py",
   "mimetype": "text/x-python",
   "name": "python",
   "nbconvert_exporter": "python",
   "pygments_lexer": "ipython3",
   "version": "3.10.9"
  }
 },
 "nbformat": 4,
 "nbformat_minor": 5
}
