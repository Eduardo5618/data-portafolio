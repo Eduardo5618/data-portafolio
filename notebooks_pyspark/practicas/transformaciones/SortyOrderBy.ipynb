{
 "cells": [
  {
   "cell_type": "code",
   "execution_count": 2,
   "id": "bb5e8e65",
   "metadata": {},
   "outputs": [],
   "source": [
    "import findspark\n",
    "findspark.init()\n",
    "\n",
    "from pyspark.sql import SparkSession\n",
    "\n",
    "spark = SparkSession.builder.getOrCreate()"
   ]
  },
  {
   "cell_type": "code",
   "execution_count": 3,
   "id": "a3162d05",
   "metadata": {},
   "outputs": [],
   "source": [
    "from pyspark.sql.functions import col"
   ]
  },
  {
   "cell_type": "code",
   "execution_count": 12,
   "id": "c5828da4",
   "metadata": {},
   "outputs": [],
   "source": [
    "df = (spark.read.parquet('../data/dataPARQUET.parquet')\n",
    "    ).select(col('likes'),col('views'),col('video_id'),col('dislikes')).dropDuplicates(['video_id']).where(col('dislikes') != ' ')"
   ]
  },
  {
   "cell_type": "code",
   "execution_count": 13,
   "id": "61b8d22f",
   "metadata": {},
   "outputs": [
    {
     "name": "stdout",
     "output_type": "stream",
     "text": [
      "+-----+-------+-----------+--------+\n",
      "|likes|  views|   video_id|dislikes|\n",
      "+-----+-------+-----------+--------+\n",
      "| 6531| 475965|-0CMnp02rNY|     172|\n",
      "| 4429| 563746|-0NYY8cqdiQ|      54|\n",
      "|32752|1566807|-1Hm41N0dUs|     393|\n",
      "| 5214| 129360|-1yT-K3c6YI|     108|\n",
      "|  438|  67429|-2RVw2_QyxQ|      23|\n",
      "|19339|1012527|-2aVkGcI7ZA|     633|\n",
      "| 1444|  84744|-2b4qSoMnKE|     199|\n",
      "|10350| 703371|-2wRFv-mScQ|     260|\n",
      "|73480| 545655|-35jibKqbEo|     727|\n",
      "|    2|   2863|-37nIo_tLnk|       0|\n",
      "| 4028| 385104|-39ysKKpE7I|     343|\n",
      "| 6468| 230360|-3h4Xt9No9o|     177|\n",
      "|10384| 249601|-3nEHRN6IPg|     370|\n",
      "|38776| 296237|-4s2MeUgduo|     466|\n",
      "|71090| 390631|-5aaJJQFvOg|     635|\n",
      "|21224| 744363|-66xHRJSPxs|     534|\n",
      "|17882| 363370|-7AZX5Xtiks|     416|\n",
      "|36960| 908989|-7UzyXO-mzk|     434|\n",
      "|17120|1815030|-7_ATlZ-zMc|     633|\n",
      "|  760| 252542|-8ZHXaGILlc|     100|\n",
      "+-----+-------+-----------+--------+\n",
      "only showing top 20 rows\n",
      "\n"
     ]
    }
   ],
   "source": [
    "df.show()"
   ]
  },
  {
   "cell_type": "code",
   "execution_count": 10,
   "id": "7d003585",
   "metadata": {},
   "outputs": [
    {
     "name": "stdout",
     "output_type": "stream",
     "text": [
      "+-----+-------+-----------+--------+\n",
      "|likes|  views|   video_id|dislikes|\n",
      "+-----+-------+-----------+--------+\n",
      "|99990|2079137|2v4-L4PkV9U|    2844|\n",
      "|99973|2465294|DSRSgMp5X1w|   17299|\n",
      "|99952|3313449|LdhQzXHYLZ4|    5142|\n",
      "| 9991|  98513|eBnXbImHX-g|      91|\n",
      "| 9988|1162843|kz1xzBYppW8|    2555|\n",
      "|99851|1053828|vRf3azp1pak|    1226|\n",
      "| 9984| 206669|Lydh_saD9EQ|      88|\n",
      "| 9984| 254807|Ps7GzIV2KP0|     294|\n",
      "|  998|  71308|Hkx5fveyjIs|      74|\n",
      "|  998|  54348|Pr6zjrF0Djg|      75|\n",
      "|  998|  82087|hX643KbiI4s|      93|\n",
      "|99761|1454233|h5CLO2n6OxQ|     692|\n",
      "|  997|  27234|nb42DxagyOE|      13|\n",
      "| 9969| 273905|c47kn_Y4y8A|     127|\n",
      "| 9946| 242329|QXcbVHFE2bo|     148|\n",
      "| 9939| 235293|1iGBHh1q0Kg|     232|\n",
      "| 9926| 467558|hHFuZVGpBC0|     342|\n",
      "|99254|1552618|0v-6AylRH68|    5195|\n",
      "| 9925| 166235|flLc6LmAG6c|      50|\n",
      "| 9921| 594536|e9NOwaiXqqA|     323|\n",
      "+-----+-------+-----------+--------+\n",
      "only showing top 20 rows\n",
      "\n"
     ]
    }
   ],
   "source": [
    "# FUNCION PARA ORDENAR\n",
    "df.sort(desc('likes')).show()"
   ]
  },
  {
   "cell_type": "code",
   "execution_count": 9,
   "id": "59c62a2e",
   "metadata": {},
   "outputs": [],
   "source": [
    "from pyspark.sql.functions import desc"
   ]
  },
  {
   "cell_type": "code",
   "execution_count": 15,
   "id": "29f91bfd",
   "metadata": {},
   "outputs": [
    {
     "name": "stdout",
     "output_type": "stream",
     "text": [
      "+------+-------+-----------+--------+\n",
      "| likes|  views|   video_id|dislikes|\n",
      "+------+-------+-----------+--------+\n",
      "|126363| 999910|gw82GrEt370|    1034|\n",
      "| 78088| 999867|cyhU06cXfeU|     690|\n",
      "| 58552| 998908|QIN5_tJRiyY|    1080|\n",
      "|151348|9988608|fAIX12F6958|   10274|\n",
      "| 70972| 998362|LC3fWTXZXxE|    1608|\n",
      "|  4727|  99796|kOsl3cmK3zg|     152|\n",
      "|   120|   9977|1L_fPteZOYQ|      11|\n",
      "|   299|  99674|Yzx_tSlifIw|      95|\n",
      "|119634| 996318|__1SjDrSMik|    1143|\n",
      "|  3959|  99619|9ymjcSvEyhk|     158|\n",
      "|   969|  99577|qLVZiKDNxtw|     197|\n",
      "|  2136|  99566|pWZnhJay0Y8|     419|\n",
      "|  6487|  99535|BfbIoUMdKZ0|     116|\n",
      "|  3761|  99510|bhqH6tTr_Lk|     615|\n",
      "|   258| 994747|i7FgneNlM14|     398|\n",
      "| 21094| 994662|-CS84oCtjvc|     714|\n",
      "|107029| 993913|EWf7P3okX9s|     472|\n",
      "|  9507| 993593|vYb4_ARPNfo|    3647|\n",
      "|  7388| 993435|z1FfOwjlqxU|     919|\n",
      "|   111|   9932|b3KFfgoDzw8|       9|\n",
      "+------+-------+-----------+--------+\n",
      "only showing top 20 rows\n",
      "\n"
     ]
    }
   ],
   "source": [
    "df.sort(desc('views')).show()"
   ]
  },
  {
   "cell_type": "code",
   "execution_count": 17,
   "id": "d921bbe4",
   "metadata": {},
   "outputs": [
    {
     "name": "stdout",
     "output_type": "stream",
     "text": [
      "+------+-------+-----------+--------+\n",
      "| likes|  views|   video_id|dislikes|\n",
      "+------+-------+-----------+--------+\n",
      "|126363| 999910|gw82GrEt370|    1034|\n",
      "| 78088| 999867|cyhU06cXfeU|     690|\n",
      "| 58552| 998908|QIN5_tJRiyY|    1080|\n",
      "|151348|9988608|fAIX12F6958|   10274|\n",
      "| 70972| 998362|LC3fWTXZXxE|    1608|\n",
      "|  4727|  99796|kOsl3cmK3zg|     152|\n",
      "|   120|   9977|1L_fPteZOYQ|      11|\n",
      "|   299|  99674|Yzx_tSlifIw|      95|\n",
      "|119634| 996318|__1SjDrSMik|    1143|\n",
      "|  3959|  99619|9ymjcSvEyhk|     158|\n",
      "|   969|  99577|qLVZiKDNxtw|     197|\n",
      "|  2136|  99566|pWZnhJay0Y8|     419|\n",
      "|  6487|  99535|BfbIoUMdKZ0|     116|\n",
      "|  3761|  99510|bhqH6tTr_Lk|     615|\n",
      "|   258| 994747|i7FgneNlM14|     398|\n",
      "| 21094| 994662|-CS84oCtjvc|     714|\n",
      "|107029| 993913|EWf7P3okX9s|     472|\n",
      "|  9507| 993593|vYb4_ARPNfo|    3647|\n",
      "|  7388| 993435|z1FfOwjlqxU|     919|\n",
      "|   111|   9932|b3KFfgoDzw8|       9|\n",
      "+------+-------+-----------+--------+\n",
      "only showing top 20 rows\n",
      "\n"
     ]
    }
   ],
   "source": [
    "# FUNCION ORDERBY\n",
    "\n",
    "df.orderBy(col('views').desc()).show()"
   ]
  },
  {
   "cell_type": "code",
   "execution_count": 19,
   "id": "e1840354",
   "metadata": {},
   "outputs": [],
   "source": [
    "data_frame = spark.createDataFrame(\n",
    "    [\n",
    "        (1, \"azul\", 567), \n",
    "        (2, \"rojo\", 487), \n",
    "        (1, \"azul\", 345), \n",
    "        (2, 'verde',783)\n",
    "    ]).toDF('id','color','importe')"
   ]
  },
  {
   "cell_type": "code",
   "execution_count": 20,
   "id": "2e30a169",
   "metadata": {},
   "outputs": [
    {
     "name": "stdout",
     "output_type": "stream",
     "text": [
      "+---+-----+-------+\n",
      "| id|color|importe|\n",
      "+---+-----+-------+\n",
      "|  1| azul|    567|\n",
      "|  2| rojo|    487|\n",
      "|  1| azul|    345|\n",
      "|  2|verde|    783|\n",
      "+---+-----+-------+\n",
      "\n"
     ]
    }
   ],
   "source": [
    "data_frame.show()"
   ]
  },
  {
   "cell_type": "code",
   "execution_count": 21,
   "id": "40e07e66",
   "metadata": {},
   "outputs": [
    {
     "name": "stdout",
     "output_type": "stream",
     "text": [
      "+---+-----+-------+\n",
      "| id|color|importe|\n",
      "+---+-----+-------+\n",
      "|  2|verde|    783|\n",
      "|  2| rojo|    487|\n",
      "|  1| azul|    345|\n",
      "|  1| azul|    567|\n",
      "+---+-----+-------+\n",
      "\n"
     ]
    }
   ],
   "source": [
    "data_frame.orderBy(col('color').desc(),col('importe')).show()"
   ]
  },
  {
   "cell_type": "code",
   "execution_count": 22,
   "id": "9358db21",
   "metadata": {},
   "outputs": [
    {
     "name": "stdout",
     "output_type": "stream",
     "text": [
      "+------+-------+-----------+--------+\n",
      "| likes|  views|   video_id|dislikes|\n",
      "+------+-------+-----------+--------+\n",
      "|126363| 999910|gw82GrEt370|    1034|\n",
      "| 78088| 999867|cyhU06cXfeU|     690|\n",
      "| 58552| 998908|QIN5_tJRiyY|    1080|\n",
      "|151348|9988608|fAIX12F6958|   10274|\n",
      "| 70972| 998362|LC3fWTXZXxE|    1608|\n",
      "|  4727|  99796|kOsl3cmK3zg|     152|\n",
      "|   120|   9977|1L_fPteZOYQ|      11|\n",
      "|   299|  99674|Yzx_tSlifIw|      95|\n",
      "|119634| 996318|__1SjDrSMik|    1143|\n",
      "|  3959|  99619|9ymjcSvEyhk|     158|\n",
      "+------+-------+-----------+--------+\n",
      "\n"
     ]
    }
   ],
   "source": [
    "# LIMIT - Misma funcion que en SQL los primeros\n",
    "\n",
    "df_top10 = df.orderBy(col('views').desc()).limit(10)\n",
    "df_top10.show()"
   ]
  },
  {
   "cell_type": "code",
   "execution_count": null,
   "id": "6b864a76",
   "metadata": {},
   "outputs": [],
   "source": []
  }
 ],
 "metadata": {
  "kernelspec": {
   "display_name": "env310",
   "language": "python",
   "name": "python3"
  },
  "language_info": {
   "codemirror_mode": {
    "name": "ipython",
    "version": 3
   },
   "file_extension": ".py",
   "mimetype": "text/x-python",
   "name": "python",
   "nbconvert_exporter": "python",
   "pygments_lexer": "ipython3",
   "version": "3.10.9"
  }
 },
 "nbformat": 4,
 "nbformat_minor": 5
}
