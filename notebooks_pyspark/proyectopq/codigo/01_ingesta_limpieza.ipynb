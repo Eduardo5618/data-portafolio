{
 "cells": [
  {
   "cell_type": "code",
   "execution_count": null,
   "id": "759df132",
   "metadata": {},
   "outputs": [],
   "source": [
    "import findspark\n",
    "findspark.init()\n",
    "\n",
    "from pyspark.sql import SparkSession\n",
    "\n",
    "spark = SparkSession.builder.getOrCreate()"
   ]
  },
  {
   "cell_type": "code",
   "execution_count": null,
   "id": "232e5ef3",
   "metadata": {},
   "outputs": [],
   "source": [
    "#Cargamos los CSV\n",
    "reclamos_df = spark.read.option(\"header\", True).csv(\"../datasets/reclamos_clientes.csv\")\n",
    "clientes_df = spark.read.option(\"header\", True).csv(\"../datasets/clientes.csv\")\n",
    "atenciones_df = spark.read.option(\"header\", True).csv(\"../datasets/atenciones.csv\")"
   ]
  },
  {
   "cell_type": "code",
   "execution_count": null,
   "id": "7a7b36a0",
   "metadata": {},
   "outputs": [],
   "source": [
    "reclamos_df.show(5)"
   ]
  },
  {
   "cell_type": "code",
   "execution_count": null,
   "id": "8f454c67",
   "metadata": {},
   "outputs": [],
   "source": [
    "from pyspark.sql.functions import trim, col, lower"
   ]
  },
  {
   "cell_type": "code",
   "execution_count": null,
   "id": "fa273f63",
   "metadata": {},
   "outputs": [],
   "source": [
    "reclamos_df = reclamos_df.dropDuplicates().dropna()\n",
    "clientes_df = clientes_df.dropDuplicates().dropna()\n",
    "atenciones_df = atenciones_df.dropDuplicates().dropna()"
   ]
  },
  {
   "cell_type": "code",
   "execution_count": null,
   "id": "a37b08e6",
   "metadata": {},
   "outputs": [],
   "source": [
    "reclamos_df = reclamos_df.withColumn(\"descripcion\", lower(trim(col(\"descripcion\"))))\n",
    "clientes_df = clientes_df.withColumn(\"nombre\", trim(col(\"nombre\"))) \\\n",
    "                         .withColumn(\"ciudad\", trim(col(\"ciudad\")))"
   ]
  },
  {
   "cell_type": "code",
   "execution_count": null,
   "id": "86b62129",
   "metadata": {},
   "outputs": [],
   "source": [
    "from pyspark.sql.functions import col, count, avg, round,desc\n",
    "\n",
    "r = reclamos_df.alias(\"r\")\n",
    "c = clientes_df.alias(\"c\")\n",
    "a = atenciones_df.alias(\"a\")\n",
    "\n",
    "df_completo = (r.join(c, r.id_cliente == c.id_cliente, \"left\")\n",
    "                .join(a, r.id_reclamo == a.id_reclamo, \"left\")\n",
    "     .select(\n",
    "         r.id_reclamo,\n",
    "         r.id_cliente,\n",
    "         c.nombre.alias(\"nombre_cliente\"),\n",
    "         c.ciudad,\n",
    "         r.canal,\n",
    "         r.tipo_reclamo,\n",
    "         r.fecha_reclamo,\n",
    "         a.estado.alias(\"estado_atencion\"),\n",
    "         a.dias_respuesta\n",
    "     )\n",
    ")\n",
    "\n",
    "df_completo.show(5)\n",
    "\n"
   ]
  },
  {
   "cell_type": "code",
   "execution_count": null,
   "id": "d753272f",
   "metadata": {},
   "outputs": [],
   "source": [
    "df_completo.groupBy(\"tipo_reclamo\").agg(\n",
    "    round(avg(\"dias_respuesta\"), 2).alias(\"promedio_dias_respuesta\")\n",
    "    ).orderBy(\"promedio_dias_respuesta\").show()"
   ]
  },
  {
   "cell_type": "code",
   "execution_count": null,
   "id": "c46bc7d1",
   "metadata": {},
   "outputs": [],
   "source": [
    "df_completo.groupBy(\"tipo_reclamo\", \"canal\").agg(\n",
    "    count(\"*\").alias(\"total_reclamos\")\n",
    "    ).orderBy(desc(col(\"total_reclamos\"))).show(6)"
   ]
  }
 ],
 "metadata": {
  "kernelspec": {
   "display_name": "env310",
   "language": "python",
   "name": "python3"
  },
  "language_info": {
   "codemirror_mode": {
    "name": "ipython",
    "version": 3
   },
   "file_extension": ".py",
   "mimetype": "text/x-python",
   "name": "python",
   "nbconvert_exporter": "python",
   "pygments_lexer": "ipython3",
   "version": "3.10.9"
  }
 },
 "nbformat": 4,
 "nbformat_minor": 5
}
